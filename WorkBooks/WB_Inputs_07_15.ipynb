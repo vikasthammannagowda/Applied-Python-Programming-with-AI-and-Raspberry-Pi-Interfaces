{
 "cells": [
  {
   "cell_type": "markdown",
   "id": "d6bcc740-a9ea-493c-8bc3-f602400aee76",
   "metadata": {},
   "source": [
    "# User-defined INPUTS"
   ]
  },
  {
   "cell_type": "markdown",
   "id": "1ae43dfb-a2d5-4a7f-913c-014982cfe065",
   "metadata": {},
   "source": [
    "You can get user defined input values to your code. \n",
    "\n",
    "For example, you want to write a code that finds the area of a cirlce for any given input radius value."
   ]
  },
  {
   "cell_type": "markdown",
   "id": "2953a52d-caf9-4d59-9eba-264d9ce24e23",
   "metadata": {},
   "source": [
    "# SYNTAX:\n",
    "\n",
    "**variable = input(\"prompt\")**"
   ]
  },
  {
   "cell_type": "markdown",
   "id": "9fc42e12-9847-4447-8741-09684f45e41c",
   "metadata": {},
   "source": [
    "1. A **variable** refers to a value stored in memory. In the statement above, variable can be replaced with any name the programmer chooses.\n",
    "\n",
    "3. The **input()** function reads one line of input from the user. A function is a named, reusable block of code that performs a task when called. The input is stored in the computer's memory and can be accessed later using the variable.\n",
    "\n",
    "   \n",
    "5. A **prompt** a short message that indicates the program is waiting for input. In the statement above, \"prompt\" can be omitted or replaced with any message."
   ]
  },
  {
   "cell_type": "markdown",
   "id": "6346eac7-00d7-44e5-a1e3-b993af23377f",
   "metadata": {},
   "source": [
    "**Note: The default data type when you use input() function is a string.**"
   ]
  },
  {
   "cell_type": "code",
   "execution_count": 1,
   "id": "74ecadef-f08f-4a5f-b116-b8a7acded5e9",
   "metadata": {},
   "outputs": [
    {
     "name": "stdin",
     "output_type": "stream",
     "text": [
      "Please enter the radius of the circle. 23\n"
     ]
    },
    {
     "name": "stdout",
     "output_type": "stream",
     "text": [
      "The data type of the variable circle_radius is:  <class 'str'>\n"
     ]
    }
   ],
   "source": [
    "# example\n",
    "circle_radius = input(\"Please enter the radius of the circle.\")\n",
    "print(\"The data type of the variable circle_radius is: \", type(circle_radius))"
   ]
  },
  {
   "cell_type": "code",
   "execution_count": 3,
   "id": "0a22226d-5711-412a-9582-ab81d41e2bb7",
   "metadata": {},
   "outputs": [
    {
     "name": "stdout",
     "output_type": "stream",
     "text": [
      "<class 'int'>\n"
     ]
    }
   ],
   "source": [
    "value_1 = \"10\"\n",
    "value_1_int = int(value_1)\n",
    "print(type(value_1_int))"
   ]
  },
  {
   "cell_type": "code",
   "execution_count": 4,
   "id": "05e2a22c-f28c-4eb8-9420-3d18b5cca7c8",
   "metadata": {},
   "outputs": [
    {
     "name": "stdin",
     "output_type": "stream",
     "text": [
      "Please enter the radius of the circle. 23\n"
     ]
    },
    {
     "name": "stdout",
     "output_type": "stream",
     "text": [
      "The data type of the variable circle_radius is:  <class 'int'>\n"
     ]
    }
   ],
   "source": [
    "circle_radius = int(input(\"Please enter the radius of the circle.\"))\n",
    "print(\"The data type of the variable circle_radius is: \", type(circle_radius))"
   ]
  },
  {
   "cell_type": "code",
   "execution_count": 6,
   "id": "b9fcf564-dd91-4e06-a2d5-abeb649194f5",
   "metadata": {},
   "outputs": [
    {
     "name": "stdin",
     "output_type": "stream",
     "text": [
      "Please enter the radius of the circle. 23\n"
     ]
    },
    {
     "name": "stdout",
     "output_type": "stream",
     "text": [
      "The data type of the variable circle_radius is:  <class 'float'>\n"
     ]
    }
   ],
   "source": [
    "circle_radius = input(\"Please enter the radius of the circle.\")\n",
    "circle_radius_int = float(circle_radius)\n",
    "print(\"The data type of the variable circle_radius is: \", type(circle_radius_int))"
   ]
  },
  {
   "cell_type": "markdown",
   "id": "b60a8e0d-e260-4853-b446-16885278de3d",
   "metadata": {},
   "source": [
    "# Problem 1\n",
    "\n",
    "Write a python script to convert miles to meters, where miles is a user defined input."
   ]
  },
  {
   "cell_type": "code",
   "execution_count": 9,
   "id": "22fab2fb-6374-40af-9619-650d6dad10ad",
   "metadata": {},
   "outputs": [
    {
     "name": "stdin",
     "output_type": "stream",
     "text": [
      "Please enter distance in miles: 12\n"
     ]
    },
    {
     "name": "stdout",
     "output_type": "stream",
     "text": [
      "12.0 mile is 19200.0 meter.\n"
     ]
    }
   ],
   "source": [
    "# 1 mile = 1600 meter\n",
    "mile = float(input(\"Please enter distance in miles:\"))\n",
    "#print(type(miles))\n",
    "meter = mile * 1600\n",
    "#print(mile, \"mile is\", meter, \"meter.\")\n",
    "# f string\n",
    "print(f\"{mile} mile is {meter} meter.\")"
   ]
  },
  {
   "cell_type": "code",
   "execution_count": null,
   "id": "1823ea0b-a103-4981-b24f-f964b2cbf0ba",
   "metadata": {},
   "outputs": [],
   "source": []
  }
 ],
 "metadata": {
  "kernelspec": {
   "display_name": "Python 3 (ipykernel)",
   "language": "python",
   "name": "python3"
  },
  "language_info": {
   "codemirror_mode": {
    "name": "ipython",
    "version": 3
   },
   "file_extension": ".py",
   "mimetype": "text/x-python",
   "name": "python",
   "nbconvert_exporter": "python",
   "pygments_lexer": "ipython3",
   "version": "3.11.7"
  }
 },
 "nbformat": 4,
 "nbformat_minor": 5
}
