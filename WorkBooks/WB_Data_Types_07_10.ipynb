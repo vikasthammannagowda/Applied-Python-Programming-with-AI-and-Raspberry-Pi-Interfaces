{
 "cells": [
  {
   "cell_type": "markdown",
   "id": "939509e2-f337-4f18-97b0-3a603d044eed",
   "metadata": {},
   "source": [
    "# Data Type\n",
    "\n",
    "**Python stores two types of data**\n",
    "\n",
    "*1. Numeric types* (stores numbers)\n",
    "\n",
    "*2. Categorical types* (stores words)\n",
    "\n",
    "\n",
    "\n"
   ]
  },
  {
   "cell_type": "markdown",
   "id": "dd9bb9ae-b206-4b79-afd6-b3fb5e91fdf4",
   "metadata": {},
   "source": [
    "These types can be further divided into the following:\n",
    "\n",
    "**Numeric types**\n",
    "\n",
    "**int**: *Integer type*, represents whole numbers\n",
    "- example: num_1 = 10\n",
    "  \n",
    "**float**: *Floating point type*, represents real numbers with decimal points\n",
    "- example: circle_pi = 3.142\n",
    "  \n",
    "**complex**: *Complex number type*, represents numbers with a real and an imaginary part\n",
    "- example: num_cmplx = 1+2j\r\n"
   ]
  },
  {
   "cell_type": "markdown",
   "id": "0a7c9714-3c59-4715-b1af-e9cbdc924483",
   "metadata": {},
   "source": [
    "**Categorical types**\n",
    "\n",
    "**str**: *string type*, represents a sequence of characters\n",
    "- example: my_name = \"vikas\"\n",
    "\n",
    "**bool**: *Boolean type*, represents **True** or **False**\n",
    "- example: flag = True\n",
    "\n",
    "\n"
   ]
  },
  {
   "cell_type": "code",
   "execution_count": null,
   "id": "2da0abc0-9c23-4204-ba92-48e3672e04a1",
   "metadata": {},
   "outputs": [],
   "source": []
  },
  {
   "cell_type": "code",
   "execution_count": 1,
   "id": "8537e2d7-5dd8-474e-99a5-79b3f599e348",
   "metadata": {},
   "outputs": [
    {
     "data": {
      "text/plain": [
       "int"
      ]
     },
     "execution_count": 1,
     "metadata": {},
     "output_type": "execute_result"
    }
   ],
   "source": [
    "# check the type of a variable\n",
    "value_1 = 10\n",
    "type(value_1) # type is a method"
   ]
  },
  {
   "cell_type": "code",
   "execution_count": 2,
   "id": "b3ee8606-7eee-46d2-86d2-0387f37404e7",
   "metadata": {},
   "outputs": [
    {
     "data": {
      "text/plain": [
       "float"
      ]
     },
     "execution_count": 2,
     "metadata": {},
     "output_type": "execute_result"
    }
   ],
   "source": [
    "value_2 = 3.142\n",
    "type(value_2)"
   ]
  },
  {
   "cell_type": "code",
   "execution_count": 3,
   "id": "8b5d1b0a-c751-41fa-a694-e854a12675c1",
   "metadata": {},
   "outputs": [
    {
     "data": {
      "text/plain": [
       "str"
      ]
     },
     "execution_count": 3,
     "metadata": {},
     "output_type": "execute_result"
    }
   ],
   "source": [
    "# string methods\n",
    "# .lower() , .upper()\n",
    "my_name = \"Vikas\"\n",
    "type(my_name)"
   ]
  },
  {
   "cell_type": "code",
   "execution_count": 5,
   "id": "a960fe4c-39de-45c8-95a9-40e063f86523",
   "metadata": {},
   "outputs": [
    {
     "name": "stdout",
     "output_type": "stream",
     "text": [
      "VIKAS\n",
      "vikas\n"
     ]
    }
   ],
   "source": [
    "my_name_upper = my_name.upper()\n",
    "print(my_name_upper)\n",
    "print(my_name.lower())"
   ]
  },
  {
   "cell_type": "code",
   "execution_count": 6,
   "id": "0e797bda-bed1-47a2-9cdb-8713a0c7e562",
   "metadata": {},
   "outputs": [
    {
     "data": {
      "text/plain": [
       "bool"
      ]
     },
     "execution_count": 6,
     "metadata": {},
     "output_type": "execute_result"
    }
   ],
   "source": [
    "flag = True\n",
    "flag_2 = False\n",
    "type(flag)"
   ]
  },
  {
   "cell_type": "markdown",
   "id": "57e12604-bc9c-4525-8d11-7f27f4b32806",
   "metadata": {},
   "source": [
    "# Problem 1\n",
    "\n",
    "Write a python script that:\n",
    "\n",
    "1. Creates a variable named **num_1** and assigns **num_1** with the value **10**.\n",
    "2. Creates a variable named **num_2** and assigns **num_2** with the value **10.0**.\n",
    "3. Creates a variable named **str_1** and assigns **str_1** with the string value **\"10\"**.\n",
    "4. Prints the value of each of the variables along with their type."
   ]
  },
  {
   "cell_type": "code",
   "execution_count": 7,
   "id": "551a06bb-be3c-43a5-8041-28fc68ade603",
   "metadata": {},
   "outputs": [
    {
     "name": "stdout",
     "output_type": "stream",
     "text": [
      "The value stored in num_1 is: 10 and its data type is: <class 'int'>\n"
     ]
    }
   ],
   "source": [
    "num_1 = 10\n",
    "num_2 = 10.0\n",
    "str_1 = \"10\"\n",
    "print(\"The value stored in num_1 is:\", num_1, \"and its data type is:\", type(num_1))\n",
    "# The value stored in num_1 is: 10 and its data type is: int"
   ]
  },
  {
   "cell_type": "code",
   "execution_count": 8,
   "id": "35a838a8-cf37-4403-9b54-a7af086b16b4",
   "metadata": {},
   "outputs": [
    {
     "name": "stdout",
     "output_type": "stream",
     "text": [
      "3\n"
     ]
    }
   ],
   "source": [
    "pi = 3.142\n",
    "print(int(pi)) # "
   ]
  },
  {
   "cell_type": "code",
   "execution_count": 9,
   "id": "44daeaa6-31e9-4b57-b0de-d061c115fdae",
   "metadata": {},
   "outputs": [
    {
     "name": "stdout",
     "output_type": "stream",
     "text": [
      "10.0\n"
     ]
    }
   ],
   "source": [
    "print(float(num_1)) # "
   ]
  },
  {
   "cell_type": "code",
   "execution_count": 10,
   "id": "9f93a8df-fad5-4062-902a-bc47bee40210",
   "metadata": {},
   "outputs": [
    {
     "name": "stdout",
     "output_type": "stream",
     "text": [
      "10\n"
     ]
    }
   ],
   "source": [
    "print(int(num_2)) # "
   ]
  },
  {
   "cell_type": "code",
   "execution_count": 11,
   "id": "cfe3ae64-2c02-48e8-a506-e215fdcb9718",
   "metadata": {},
   "outputs": [
    {
     "name": "stdout",
     "output_type": "stream",
     "text": [
      "10.0\n"
     ]
    }
   ],
   "source": [
    "print(float(str_1))"
   ]
  },
  {
   "cell_type": "code",
   "execution_count": 12,
   "id": "dee1f0e4-3450-4b68-b12f-79787baec120",
   "metadata": {},
   "outputs": [
    {
     "name": "stdout",
     "output_type": "stream",
     "text": [
      "3.142\n"
     ]
    }
   ],
   "source": [
    "print(str(pi))"
   ]
  },
  {
   "cell_type": "markdown",
   "id": "79aab246-5005-4dfb-a4df-037faf76a6e4",
   "metadata": {},
   "source": [
    "# Problem 2\n",
    "\n",
    "Write a python script that: \n",
    "\n",
    "1. Creates a variable, team1, assigned with the value \"Liverpool\".\n",
    "2. Creates a variable, team2, assigned with the value \"Chelsea\".\n",
    "3. Creates a variable score1, assigned with the value.\n",
    "4. Creates a variable, score2, assigned with the value.\n",
    "5.  Prints team1, \"versus\", and team2 as a single line of ouput.\n",
    "6. Prints \"Final Score\" , score1, \"to\", score2 as a single line of output."
   ]
  },
  {
   "cell_type": "code",
   "execution_count": null,
   "id": "e9c68923-51fd-4aa6-80b7-ed51c9465870",
   "metadata": {},
   "outputs": [],
   "source": []
  },
  {
   "cell_type": "markdown",
   "id": "9df51320-388a-4376-bdca-36ed10965a45",
   "metadata": {},
   "source": [
    "# Problem 3\n",
    "\n",
    "Find the area and circumference of a circle if the radius is 3 units."
   ]
  },
  {
   "cell_type": "markdown",
   "id": "c46378a4-e0af-486c-8050-8e28a77a9b75",
   "metadata": {},
   "source": [
    "**Algorithm**\n",
    "\n",
    "Inputs: radius = 3, pi = 3.142\n",
    "\n",
    "\n",
    "Outputs: area, circumference\n",
    "\n",
    "\n",
    "Steps:\n",
    "\n",
    "1. create a variable radius and assign 3\n",
    "2. create a variable pi and assign 3.142\n",
    "3. create a variable area and assign the value according to the equation/logic below\n",
    "4. create a variable circumference and assign the value according to the logic below\n",
    "5. display the results\n",
    "\n",
    "area = pi * radius * radius or area = pi * raidus**2\n",
    "\n",
    "circumference = 2 * pi * radius\n"
   ]
  },
  {
   "cell_type": "code",
   "execution_count": 22,
   "id": "c3fcde23-9a70-446e-a094-438d205cd8ce",
   "metadata": {},
   "outputs": [
    {
     "name": "stdout",
     "output_type": "stream",
     "text": [
      "The area of circle is: 28.27\n",
      "The circumference of circle is: 18.85\n"
     ]
    }
   ],
   "source": [
    "radius = 3\n",
    "pi = 3.141592\n",
    "area = pi * (radius * radius)\n",
    "circumference = 2 * pi * radius\n",
    "print(\"The area of circle is:\", round(area, 2))\n",
    "print(\"The circumference of circle is:\", round(circumference, 3))"
   ]
  },
  {
   "cell_type": "code",
   "execution_count": null,
   "id": "e7dec96f-3b36-45b7-a64b-01c4031a517f",
   "metadata": {},
   "outputs": [],
   "source": [
    "# int -> 28 bytes // 1 byte = 8 bits // 1 bit -> 0 or 1\n",
    "# float -> 24 bytes"
   ]
  },
  {
   "cell_type": "code",
   "execution_count": 23,
   "id": "f7a87c61-20a6-43ae-a1c9-f79aab4f0908",
   "metadata": {},
   "outputs": [
    {
     "name": "stdout",
     "output_type": "stream",
     "text": [
      "The area of circle is: 12.14\n",
      "The circumference of circle is: 18.85\n"
     ]
    }
   ],
   "source": [
    "radius = 3\n",
    "pi = 3.141592\n",
    "area = pi + (radius * radius) # logical error\n",
    "circumference = 2 * pi * radius\n",
    "print(\"The area of circle is:\", round(area, 2))\n",
    "print(\"The circumference of circle is:\", round(circumference, 3))"
   ]
  },
  {
   "cell_type": "code",
   "execution_count": 24,
   "id": "2b7a7d95-88eb-43d2-9791-8ea4399caddf",
   "metadata": {},
   "outputs": [
    {
     "ename": "SyntaxError",
     "evalue": "invalid syntax (3581577678.py, line 3)",
     "output_type": "error",
     "traceback": [
      "\u001b[1;36m  Cell \u001b[1;32mIn[24], line 3\u001b[1;36m\u001b[0m\n\u001b[1;33m    area  pi + (radius * radius) # logical error\u001b[0m\n\u001b[1;37m          ^\u001b[0m\n\u001b[1;31mSyntaxError\u001b[0m\u001b[1;31m:\u001b[0m invalid syntax\n"
     ]
    }
   ],
   "source": [
    "radius = 3\n",
    "pi = 3.141592\n",
    "area  pi + (radius * radius) # logical error\n",
    "circumference = 2 * pi * radius\n",
    "print(\"The area of circle is:\", round(area, 2))\n",
    "print(\"The circumference of circle is:\", round(circumference, 3))"
   ]
  },
  {
   "cell_type": "code",
   "execution_count": null,
   "id": "a34b6ed2-db88-4323-b056-7d55365a1e23",
   "metadata": {},
   "outputs": [],
   "source": []
  }
 ],
 "metadata": {
  "kernelspec": {
   "display_name": "Python 3 (ipykernel)",
   "language": "python",
   "name": "python3"
  },
  "language_info": {
   "codemirror_mode": {
    "name": "ipython",
    "version": 3
   },
   "file_extension": ".py",
   "mimetype": "text/x-python",
   "name": "python",
   "nbconvert_exporter": "python",
   "pygments_lexer": "ipython3",
   "version": "3.11.7"
  }
 },
 "nbformat": 4,
 "nbformat_minor": 5
}
