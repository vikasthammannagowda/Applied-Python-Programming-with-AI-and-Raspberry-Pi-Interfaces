{
 "cells": [
  {
   "cell_type": "markdown",
   "id": "09786095-4372-4278-9472-62788f75bb5f",
   "metadata": {},
   "source": [
    "# Special data types/ collection data types"
   ]
  },
  {
   "cell_type": "markdown",
   "id": "966b1e4d-4f88-4a0d-95c1-3c683d2c7ad3",
   "metadata": {},
   "source": [
    "Python has 4 built-in data structures that can be used to hold a collection of objects, they are list, tuple, set, and dictionary. They can be distinguished into mutable, immutable, set type, and mappings respectively"
   ]
  },
  {
   "cell_type": "markdown",
   "id": "62432809-c09d-4cf5-a3c5-a212bd88dcdc",
   "metadata": {},
   "source": [
    "# Lists\n",
    "\n",
    "Analogy: Think of a list as a dynamic array or a shopping list where you can add, remove, and modify items.\n",
    "\n",
    "Characteristics:\n",
    "\n",
    "**Ordered**: Items have a specific order. (Ordering starts at **0** and goes until **length - 1**)\n",
    "\n",
    "**Mutable**: Items can be changed, added, or removed.\n",
    "\n",
    "**Allow Duplicates**: Can contain duplicate items."
   ]
  },
  {
   "cell_type": "markdown",
   "id": "90a72493-a575-42e0-86c9-2059126238a3",
   "metadata": {},
   "source": [
    "<font size = 4>**String** example"
   ]
  },
  {
   "cell_type": "code",
   "execution_count": 3,
   "id": "1c90160c-150c-4d1c-b90c-ed241d4cfd44",
   "metadata": {},
   "outputs": [
    {
     "name": "stdout",
     "output_type": "stream",
     "text": [
      "['apples', 'bananas', 'carrots']\n"
     ]
    }
   ],
   "source": [
    "# Creating a list\n",
    "shopping_list = [\"apples\", \"bananas\", \"carrots\"]\n",
    "print(shopping_list)  \n"
   ]
  },
  {
   "cell_type": "code",
   "execution_count": 4,
   "id": "02b1d2b3-0f7f-404f-80f3-53d2dcd03222",
   "metadata": {},
   "outputs": [
    {
     "data": {
      "text/plain": [
       "3"
      ]
     },
     "execution_count": 4,
     "metadata": {},
     "output_type": "execute_result"
    }
   ],
   "source": [
    "# length of a list\n",
    "shopping_list = [\"apples\", \"bananas\", \"carrots\"]\n",
    "len(shopping_list) # len() -> gives the number of values in the list // Here i am passing the list as a parameter\n",
    "#len(shopping_list[1])"
   ]
  },
  {
   "cell_type": "code",
   "execution_count": 7,
   "id": "81d9582f-39aa-4667-8792-6ddfbe437298",
   "metadata": {},
   "outputs": [
    {
     "data": {
      "text/plain": [
       "7"
      ]
     },
     "execution_count": 7,
     "metadata": {},
     "output_type": "execute_result"
    }
   ],
   "source": [
    "len(shopping_list[1]) # len(\"bananas\") // Here i am passing the value at index position 1 of the list as a parameter"
   ]
  },
  {
   "cell_type": "code",
   "execution_count": 6,
   "id": "70f5f7cb-5f8e-4050-9666-d9a5d041950f",
   "metadata": {},
   "outputs": [
    {
     "data": {
      "text/plain": [
       "7"
      ]
     },
     "execution_count": 6,
     "metadata": {},
     "output_type": "execute_result"
    }
   ],
   "source": [
    "len(\"bananas\")"
   ]
  },
  {
   "cell_type": "code",
   "execution_count": null,
   "id": "fb6c14e7-f9d3-4aa1-9c99-3b82cfaad673",
   "metadata": {},
   "outputs": [],
   "source": []
  },
  {
   "cell_type": "code",
   "execution_count": 8,
   "id": "b7ecfe6c-9057-433f-b3da-ce0a04756658",
   "metadata": {},
   "outputs": [
    {
     "name": "stdout",
     "output_type": "stream",
     "text": [
      "['apples', 'bananas', 'carrots', 'dates']\n"
     ]
    }
   ],
   "source": [
    "# Adding an item to the end of the list\n",
    "shopping_list.append(\"dates\") # you need to know what this method -> .append() does \n",
    "print(shopping_list)  \n"
   ]
  },
  {
   "cell_type": "code",
   "execution_count": 9,
   "id": "3a826a8f-f495-41fd-8dec-339522fcfa2c",
   "metadata": {},
   "outputs": [
    {
     "name": "stdout",
     "output_type": "stream",
     "text": [
      "['apples', 'carrots', 'dates']\n"
     ]
    }
   ],
   "source": [
    "# Removing an item\n",
    "shopping_list.remove(\"bananas\")\n",
    "print(shopping_list)  \n",
    "\n"
   ]
  },
  {
   "cell_type": "code",
   "execution_count": 10,
   "id": "c151221e-204d-4d1d-9ad9-d2d081f0b9ae",
   "metadata": {},
   "outputs": [
    {
     "name": "stdout",
     "output_type": "stream",
     "text": [
      "['apples', 'blueberries', 'dates']\n"
     ]
    }
   ],
   "source": [
    "# Modifying an item\n",
    "shopping_list[1] = \"blueberries\"\n",
    "print(shopping_list)  "
   ]
  },
  {
   "cell_type": "code",
   "execution_count": null,
   "id": "cbeb89f1-4e65-46c8-8fba-4122c1690efa",
   "metadata": {},
   "outputs": [],
   "source": []
  },
  {
   "cell_type": "markdown",
   "id": "036cdabb-a1a5-4536-adcc-db74dbb253eb",
   "metadata": {},
   "source": [
    "<font size = 4>**Numeric** example"
   ]
  },
  {
   "cell_type": "code",
   "execution_count": 19,
   "id": "52bb81a9-37bc-45af-aacb-34b59ff796c8",
   "metadata": {},
   "outputs": [
    {
     "name": "stdout",
     "output_type": "stream",
     "text": [
      "[-15, -3, 0, 9, 10]\n"
     ]
    }
   ],
   "source": [
    "values = [10, -3, 9, 0, -15]\n",
    "values.sort() \n",
    "print(values)"
   ]
  },
  {
   "cell_type": "code",
   "execution_count": 20,
   "id": "3f329f9b-c114-4ea8-a2ed-cdd757ad58f9",
   "metadata": {},
   "outputs": [
    {
     "name": "stdout",
     "output_type": "stream",
     "text": [
      "[10, 9, 0, -3, -15]\n"
     ]
    }
   ],
   "source": [
    "values = [10, -3, 9, 0, -15]\n",
    "values.sort(reverse = True) # sorts in descending order\n",
    "print(values)"
   ]
  },
  {
   "cell_type": "code",
   "execution_count": null,
   "id": "c86e0bd3-73f7-44c1-a5b3-bc840cf3592d",
   "metadata": {},
   "outputs": [],
   "source": []
  },
  {
   "cell_type": "markdown",
   "id": "08199c01-2586-49f1-aa3f-819e4e3dc89a",
   "metadata": {},
   "source": [
    "<font size = 4>**MIXED** example"
   ]
  },
  {
   "cell_type": "code",
   "execution_count": 21,
   "id": "ec990095-1698-4795-8533-0a811390a512",
   "metadata": {},
   "outputs": [
    {
     "name": "stdout",
     "output_type": "stream",
     "text": [
      "[1, 'Vikas', False]\n"
     ]
    }
   ],
   "source": [
    "mixed_values = [1, \"Vikas\", False]\n",
    "print(mixed_values)"
   ]
  },
  {
   "cell_type": "code",
   "execution_count": null,
   "id": "af60f7f9-979a-4281-aeb1-7998379c4be6",
   "metadata": {},
   "outputs": [],
   "source": []
  },
  {
   "cell_type": "markdown",
   "id": "66434752-dd2d-4e6d-977b-2dae779d89c8",
   "metadata": {},
   "source": [
    "# Tuples\n",
    "\n",
    "Analogy: Think of a tuple as a record or an entry in a database where the values are fixed.\n",
    "\n",
    "Characteristics:\n",
    "\n",
    "**Ordered:** Items have a specific order.\n",
    "\n",
    "**Immutable:** Items cannot be changed once defined.\n",
    "\n",
    "**Allow Duplicates:** Can contain duplicate items."
   ]
  },
  {
   "cell_type": "code",
   "execution_count": 22,
   "id": "b8e388c7-9602-442c-9653-364b1cfdfc93",
   "metadata": {},
   "outputs": [
    {
     "name": "stdout",
     "output_type": "stream",
     "text": [
      "('John', 28, 'Engineer')\n"
     ]
    }
   ],
   "source": [
    "# Creating a tuple\n",
    "person = (\"John\", 28, \"Engineer\")\n",
    "print(person)  \n"
   ]
  },
  {
   "cell_type": "code",
   "execution_count": 24,
   "id": "2d620bac-d918-4dbd-b521-708d450bb8c7",
   "metadata": {},
   "outputs": [
    {
     "name": "stdout",
     "output_type": "stream",
     "text": [
      "28\n"
     ]
    }
   ],
   "source": [
    "# Accessing items\n",
    "print(person[1]) \n"
   ]
  },
  {
   "cell_type": "code",
   "execution_count": 25,
   "id": "7fddc9a8-a648-4e93-997c-ab7cef20f6ac",
   "metadata": {},
   "outputs": [
    {
     "ename": "TypeError",
     "evalue": "'tuple' object does not support item assignment",
     "output_type": "error",
     "traceback": [
      "\u001b[1;31m---------------------------------------------------------------------------\u001b[0m",
      "\u001b[1;31mTypeError\u001b[0m                                 Traceback (most recent call last)",
      "Cell \u001b[1;32mIn[25], line 2\u001b[0m\n\u001b[0;32m      1\u001b[0m \u001b[38;5;66;03m# Trying to modify a tuple (this will raise an error)\u001b[39;00m\n\u001b[1;32m----> 2\u001b[0m person[\u001b[38;5;241m1\u001b[39m] \u001b[38;5;241m=\u001b[39m \u001b[38;5;241m29\u001b[39m\n",
      "\u001b[1;31mTypeError\u001b[0m: 'tuple' object does not support item assignment"
     ]
    }
   ],
   "source": [
    "# Trying to modify a tuple (this will raise an error)\n",
    "person[1] = 29  # TypeError: 'tuple' object does not support item assignment"
   ]
  },
  {
   "cell_type": "code",
   "execution_count": null,
   "id": "3bc77db2-224a-47b5-b51b-36d13b5ce6c8",
   "metadata": {},
   "outputs": [],
   "source": []
  },
  {
   "cell_type": "code",
   "execution_count": null,
   "id": "3918b95f-b4ce-4864-bba8-07eb6cb80316",
   "metadata": {},
   "outputs": [],
   "source": []
  },
  {
   "cell_type": "markdown",
   "id": "2ec5ddb8-bec4-4b90-bcc1-d193da6ea198",
   "metadata": {},
   "source": [
    "# Sets\n",
    "\n",
    "Analogy: Think of a set as a collection of unique items, like a deck of unique playing cards.\n",
    "\n",
    "Characteristics:\n",
    "\n",
    "**Unordered:** Items do not have a specific order.\n",
    "\n",
    "**Mutable:** Items can be added or removed.\n",
    "\n",
    "**No Duplicates:** Cannot contain duplicate items"
   ]
  },
  {
   "cell_type": "code",
   "execution_count": 26,
   "id": "a8c5c5a9-38ec-4248-872a-311a79ee96bd",
   "metadata": {},
   "outputs": [
    {
     "name": "stdout",
     "output_type": "stream",
     "text": [
      "{1, 2, 3, 4, 5}\n"
     ]
    }
   ],
   "source": [
    "# Creating a set\n",
    "unique_numbers = {1, 2, 3, 4, 5}\n",
    "print(unique_numbers) \n"
   ]
  },
  {
   "cell_type": "code",
   "execution_count": 27,
   "id": "a45f43e5-5db5-4b96-b1c3-3ce37949dd4f",
   "metadata": {},
   "outputs": [
    {
     "name": "stdout",
     "output_type": "stream",
     "text": [
      "{1, 2, 3, 4, 5, 6}\n"
     ]
    }
   ],
   "source": [
    "# Adding an item\n",
    "unique_numbers.add(6)\n",
    "print(unique_numbers)  \n"
   ]
  },
  {
   "cell_type": "code",
   "execution_count": 28,
   "id": "e5a0ec9a-bbc2-4c06-8d6e-c625a3cbd9c0",
   "metadata": {},
   "outputs": [
    {
     "name": "stdout",
     "output_type": "stream",
     "text": [
      "{1, 3, 4, 5, 6}\n"
     ]
    }
   ],
   "source": [
    "# Removing an item\n",
    "unique_numbers.remove(2)\n",
    "print(unique_numbers)  "
   ]
  },
  {
   "cell_type": "code",
   "execution_count": 29,
   "id": "2a9862b2-6d9e-4054-b4ad-690054767602",
   "metadata": {},
   "outputs": [
    {
     "name": "stdout",
     "output_type": "stream",
     "text": [
      "{1, 3, 4, 5, 6}\n"
     ]
    }
   ],
   "source": [
    "# Adding a duplicate item (this will have no effect)\n",
    "unique_numbers.add(3)\n",
    "print(unique_numbers)  "
   ]
  },
  {
   "cell_type": "code",
   "execution_count": 30,
   "id": "1135aac8-1c75-4783-af79-0a547b0692f4",
   "metadata": {},
   "outputs": [
    {
     "ename": "TypeError",
     "evalue": "'set' object is not subscriptable",
     "output_type": "error",
     "traceback": [
      "\u001b[1;31m---------------------------------------------------------------------------\u001b[0m",
      "\u001b[1;31mTypeError\u001b[0m                                 Traceback (most recent call last)",
      "Cell \u001b[1;32mIn[30], line 2\u001b[0m\n\u001b[0;32m      1\u001b[0m \u001b[38;5;66;03m# Trying to access an element using its indexed position\u001b[39;00m\n\u001b[1;32m----> 2\u001b[0m \u001b[38;5;28mprint\u001b[39m(unique_numbers[\u001b[38;5;241m0\u001b[39m])\n",
      "\u001b[1;31mTypeError\u001b[0m: 'set' object is not subscriptable"
     ]
    }
   ],
   "source": [
    "# Trying to access an element using its indexed position\n",
    "print(unique_numbers[0])"
   ]
  },
  {
   "cell_type": "code",
   "execution_count": null,
   "id": "5820af2b-67e0-4763-9d3a-6af8ebdd09aa",
   "metadata": {},
   "outputs": [],
   "source": []
  },
  {
   "cell_type": "markdown",
   "id": "f0695cf4-0793-4bfc-872c-fafa8cd1c988",
   "metadata": {},
   "source": [
    "# Dictionaries\n",
    "\n",
    "Analogy: Think of a dictionary as a real-world dictionary where you look up words (keys) to find their meanings (values).\n",
    "\n",
    "Characteristics:\n",
    "\n",
    "**Key-Value Pairs:** Items are stored as pairs of keys and values.\n",
    "\n",
    "**Ordered (since Python 3.7):** Items have a specific order based on insertion.\n",
    "\n",
    "**Mutable:** Keys and values can be added, changed, or removed.\n",
    "\n",
    "**No Duplicate Keys:** Keys must be unique, but values can be duplicated."
   ]
  },
  {
   "cell_type": "code",
   "execution_count": 31,
   "id": "2a3599d0-090d-4597-8e24-2865dad329ba",
   "metadata": {},
   "outputs": [
    {
     "name": "stdout",
     "output_type": "stream",
     "text": [
      "{'name': 'Alice', 'age': 24, 'major': 'Computer Science'}\n"
     ]
    }
   ],
   "source": [
    "# Creating a dictionary\n",
    "student = {\"name\": \"Alice\", \"age\": 24, \"major\": \"Computer Science\"}\n",
    "print(student)  \n"
   ]
  },
  {
   "cell_type": "code",
   "execution_count": 32,
   "id": "fc18bc35-c2a1-4607-8674-4e2ab17594d6",
   "metadata": {},
   "outputs": [
    {
     "name": "stdout",
     "output_type": "stream",
     "text": [
      "{'name': 'Alice', 'age': 24, 'major': 'Computer Science', 'graduation_year': 2023}\n"
     ]
    }
   ],
   "source": [
    "# Adding a new key-value pair\n",
    "student[\"graduation_year\"] = 2023\n",
    "print(student)  \n"
   ]
  },
  {
   "cell_type": "code",
   "execution_count": 33,
   "id": "e5d564cf-831d-4dd3-a727-ee7ad23946a4",
   "metadata": {},
   "outputs": [
    {
     "name": "stdout",
     "output_type": "stream",
     "text": [
      "{'name': 'Alice', 'age': 25, 'major': 'Computer Science', 'graduation_year': 2023}\n"
     ]
    }
   ],
   "source": [
    "# Modifying an existing key-value pair\n",
    "student[\"age\"] = 25 # used categorical indexing \n",
    "print(student)  \n"
   ]
  },
  {
   "cell_type": "code",
   "execution_count": 34,
   "id": "11373bc6-fee9-4ddc-be1a-c1888bf17c86",
   "metadata": {},
   "outputs": [
    {
     "ename": "KeyError",
     "evalue": "1",
     "output_type": "error",
     "traceback": [
      "\u001b[1;31m---------------------------------------------------------------------------\u001b[0m",
      "\u001b[1;31mKeyError\u001b[0m                                  Traceback (most recent call last)",
      "Cell \u001b[1;32mIn[34], line 3\u001b[0m\n\u001b[0;32m      1\u001b[0m \u001b[38;5;66;03m# Ordered here means, the indexing will be the keys and not a regular numeric indexing ( 0 -> len -1)\u001b[39;00m\n\u001b[1;32m----> 3\u001b[0m student[\u001b[38;5;241m1\u001b[39m]\n",
      "\u001b[1;31mKeyError\u001b[0m: 1"
     ]
    }
   ],
   "source": [
    "# Ordered here means, the indexing will be the keys and not a regular numeric indexing ( 0 -> len -1)\n",
    "\n",
    "student[1]"
   ]
  },
  {
   "cell_type": "code",
   "execution_count": 35,
   "id": "bb67171a-c4c9-4f97-8c98-a5efcb02bba2",
   "metadata": {},
   "outputs": [
    {
     "data": {
      "text/plain": [
       "'Computer Science'"
      ]
     },
     "execution_count": 35,
     "metadata": {},
     "output_type": "execute_result"
    }
   ],
   "source": [
    "student[\"major\"] # allows categorical indexing"
   ]
  },
  {
   "cell_type": "code",
   "execution_count": 36,
   "id": "c33ae247-e4d0-4b5a-a179-5830247278b7",
   "metadata": {},
   "outputs": [
    {
     "name": "stdout",
     "output_type": "stream",
     "text": [
      "{'name': 'Alice', 'age': 25, 'graduation_year': 2023}\n"
     ]
    }
   ],
   "source": [
    "# Removing a key-value pair\n",
    "del student[\"major\"]\n",
    "print(student)  "
   ]
  },
  {
   "cell_type": "code",
   "execution_count": null,
   "id": "c15f0fd7-5f97-4526-a0ae-889f88fc3f58",
   "metadata": {},
   "outputs": [],
   "source": []
  },
  {
   "cell_type": "code",
   "execution_count": null,
   "id": "5d0d7be7-5f68-4d68-ae35-c98b5cea3573",
   "metadata": {},
   "outputs": [],
   "source": []
  },
  {
   "cell_type": "code",
   "execution_count": null,
   "id": "7d38ddcd-a543-4b45-8731-370c6b54d281",
   "metadata": {},
   "outputs": [],
   "source": []
  }
 ],
 "metadata": {
  "kernelspec": {
   "display_name": "Python 3 (ipykernel)",
   "language": "python",
   "name": "python3"
  },
  "language_info": {
   "codemirror_mode": {
    "name": "ipython",
    "version": 3
   },
   "file_extension": ".py",
   "mimetype": "text/x-python",
   "name": "python",
   "nbconvert_exporter": "python",
   "pygments_lexer": "ipython3",
   "version": "3.11.7"
  }
 },
 "nbformat": 4,
 "nbformat_minor": 5
}
