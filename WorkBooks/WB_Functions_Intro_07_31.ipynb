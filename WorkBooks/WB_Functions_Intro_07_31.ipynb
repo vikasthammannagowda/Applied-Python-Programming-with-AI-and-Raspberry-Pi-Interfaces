{
 "cells": [
  {
   "cell_type": "markdown",
   "id": "b738496e-4962-415a-a2d1-ce4f2d983b43",
   "metadata": {},
   "source": [
    "# Write a program that prompts you to enter quantities of coins and tell you how much money you have in dollars and cents.\n",
    "\n",
    "**The program is only required to work if the numbers entered by the user are zero or positive integers. If a negative number is entered, the user must be presented with an error message, and that input will be treated as a zero.**"
   ]
  },
  {
   "cell_type": "code",
   "execution_count": 2,
   "id": "c4fe984b-6e44-47e9-94fc-663136ba0878",
   "metadata": {},
   "outputs": [
    {
     "name": "stdout",
     "output_type": "stream",
     "text": [
      "Enter quantities of each coin. Negative values will be treated as zero.\n",
      "\n"
     ]
    },
    {
     "name": "stdin",
     "output_type": "stream",
     "text": [
      "Number of pennies:  -8\n"
     ]
    },
    {
     "name": "stdout",
     "output_type": "stream",
     "text": [
      "Negative values are treated zero\n"
     ]
    },
    {
     "ename": "KeyboardInterrupt",
     "evalue": "Interrupted by user",
     "output_type": "error",
     "traceback": [
      "\u001b[1;31m---------------------------------------------------------------------------\u001b[0m",
      "\u001b[1;31mKeyboardInterrupt\u001b[0m                         Traceback (most recent call last)",
      "Cell \u001b[1;32mIn[2], line 18\u001b[0m\n\u001b[0;32m     13\u001b[0m \u001b[38;5;66;03m#if pennies < 0:\u001b[39;00m\n\u001b[0;32m     14\u001b[0m \u001b[38;5;66;03m#    print(\"  Negative pennies entered; treating as 0.\")\u001b[39;00m\n\u001b[0;32m     15\u001b[0m \u001b[38;5;66;03m#    pennies = 0\u001b[39;00m\n\u001b[0;32m     16\u001b[0m pennies \u001b[38;5;241m=\u001b[39m check_input(pennies)\n\u001b[1;32m---> 18\u001b[0m nickels \u001b[38;5;241m=\u001b[39m \u001b[38;5;28mint\u001b[39m(\u001b[38;5;28minput\u001b[39m(\u001b[38;5;124m\"\u001b[39m\u001b[38;5;124mNumber of nickels: \u001b[39m\u001b[38;5;124m\"\u001b[39m))\n\u001b[0;32m     19\u001b[0m \u001b[38;5;28;01mif\u001b[39;00m nickels \u001b[38;5;241m<\u001b[39m \u001b[38;5;241m0\u001b[39m:\n\u001b[0;32m     20\u001b[0m     \u001b[38;5;28mprint\u001b[39m(\u001b[38;5;124m\"\u001b[39m\u001b[38;5;124m  Negative nickels entered; treating as 0.\u001b[39m\u001b[38;5;124m\"\u001b[39m)\n",
      "File \u001b[1;32m~\\AppData\\Local\\anaconda3\\Lib\\site-packages\\ipykernel\\kernelbase.py:1262\u001b[0m, in \u001b[0;36mKernel.raw_input\u001b[1;34m(self, prompt)\u001b[0m\n\u001b[0;32m   1260\u001b[0m     msg \u001b[38;5;241m=\u001b[39m \u001b[38;5;124m\"\u001b[39m\u001b[38;5;124mraw_input was called, but this frontend does not support input requests.\u001b[39m\u001b[38;5;124m\"\u001b[39m\n\u001b[0;32m   1261\u001b[0m     \u001b[38;5;28;01mraise\u001b[39;00m StdinNotImplementedError(msg)\n\u001b[1;32m-> 1262\u001b[0m \u001b[38;5;28;01mreturn\u001b[39;00m \u001b[38;5;28mself\u001b[39m\u001b[38;5;241m.\u001b[39m_input_request(\n\u001b[0;32m   1263\u001b[0m     \u001b[38;5;28mstr\u001b[39m(prompt),\n\u001b[0;32m   1264\u001b[0m     \u001b[38;5;28mself\u001b[39m\u001b[38;5;241m.\u001b[39m_parent_ident[\u001b[38;5;124m\"\u001b[39m\u001b[38;5;124mshell\u001b[39m\u001b[38;5;124m\"\u001b[39m],\n\u001b[0;32m   1265\u001b[0m     \u001b[38;5;28mself\u001b[39m\u001b[38;5;241m.\u001b[39mget_parent(\u001b[38;5;124m\"\u001b[39m\u001b[38;5;124mshell\u001b[39m\u001b[38;5;124m\"\u001b[39m),\n\u001b[0;32m   1266\u001b[0m     password\u001b[38;5;241m=\u001b[39m\u001b[38;5;28;01mFalse\u001b[39;00m,\n\u001b[0;32m   1267\u001b[0m )\n",
      "File \u001b[1;32m~\\AppData\\Local\\anaconda3\\Lib\\site-packages\\ipykernel\\kernelbase.py:1305\u001b[0m, in \u001b[0;36mKernel._input_request\u001b[1;34m(self, prompt, ident, parent, password)\u001b[0m\n\u001b[0;32m   1302\u001b[0m \u001b[38;5;28;01mexcept\u001b[39;00m \u001b[38;5;167;01mKeyboardInterrupt\u001b[39;00m:\n\u001b[0;32m   1303\u001b[0m     \u001b[38;5;66;03m# re-raise KeyboardInterrupt, to truncate traceback\u001b[39;00m\n\u001b[0;32m   1304\u001b[0m     msg \u001b[38;5;241m=\u001b[39m \u001b[38;5;124m\"\u001b[39m\u001b[38;5;124mInterrupted by user\u001b[39m\u001b[38;5;124m\"\u001b[39m\n\u001b[1;32m-> 1305\u001b[0m     \u001b[38;5;28;01mraise\u001b[39;00m \u001b[38;5;167;01mKeyboardInterrupt\u001b[39;00m(msg) \u001b[38;5;28;01mfrom\u001b[39;00m \u001b[38;5;28;01mNone\u001b[39;00m\n\u001b[0;32m   1306\u001b[0m \u001b[38;5;28;01mexcept\u001b[39;00m \u001b[38;5;167;01mException\u001b[39;00m:\n\u001b[0;32m   1307\u001b[0m     \u001b[38;5;28mself\u001b[39m\u001b[38;5;241m.\u001b[39mlog\u001b[38;5;241m.\u001b[39mwarning(\u001b[38;5;124m\"\u001b[39m\u001b[38;5;124mInvalid Message:\u001b[39m\u001b[38;5;124m\"\u001b[39m, exc_info\u001b[38;5;241m=\u001b[39m\u001b[38;5;28;01mTrue\u001b[39;00m)\n",
      "\u001b[1;31mKeyboardInterrupt\u001b[0m: Interrupted by user"
     ]
    }
   ],
   "source": [
    "print(\"Enter quantities of each coin. Negative values will be treated as zero.\\n\")\n",
    "\n",
    "# Read inputs (assumes the user enters an integer)\n",
    "\n",
    "def check_input (value): # this function \"check_input\" takes a parameter value\n",
    "    # do something\n",
    "    if(value < 0): # if the value is negative; -7 : -7 < 0; 7: 7<0\n",
    "        print(\"Negative values are treated zero\")\n",
    "        value = 0 # force the value to zero value = 0\n",
    "    return value # send back value; 0; 7\n",
    "\n",
    "pennies = int(input(\"Number of pennies: \")) # -8\n",
    "#if pennies < 0:\n",
    "#    print(\"  Negative pennies entered; treating as 0.\")\n",
    "#    pennies = 0\n",
    "pennies = check_input(pennies) # control flow line 16 jumps to line 5\n",
    "\n",
    "nickels = int(input(\"Number of nickels: \"))\n",
    "if nickels < 0:\n",
    "    print(\"  Negative nickels entered; treating as 0.\")\n",
    "    nickels = 0\n",
    "\n",
    "dimes = int(input(\"Number of dimes: \"))\n",
    "if dimes < 0:\n",
    "    print(\"  Negative dimes entered; treating as 0.\")\n",
    "    dimes = 0\n",
    "\n",
    "quarters = int(input(\"Number of quarters: \"))\n",
    "if quarters < 0:\n",
    "    print(\"  Negative quarters entered; treating as 0.\")\n",
    "    quarters = 0\n",
    "\n",
    "\n",
    "# Compute total cents\n",
    "total_cents = (\n",
    "    pennies * 1 +\n",
    "    nickels * 5 +\n",
    "    dimes * 10 +\n",
    "    quarters * 25 \n",
    ")\n",
    "\n",
    "# Convert to dollars and cents\n",
    "dollars = total_cents // 100\n",
    "cents = total_cents % 100\n",
    "\n",
    "# Output\n",
    "print(\"\\nYou have:\", end=\" \")\n",
    "print(\"You have\", dollars, \"dollars and\", cents, \"cents\")\n"
   ]
  },
  {
   "cell_type": "code",
   "execution_count": 2,
   "id": "31a4275e-9c33-487c-bc24-34068c6406f2",
   "metadata": {},
   "outputs": [
    {
     "name": "stdout",
     "output_type": "stream",
     "text": [
      "Enter quantities of each coin. Negative values will be treated as zero.\n",
      "\n"
     ]
    },
    {
     "name": "stdin",
     "output_type": "stream",
     "text": [
      "Number of pennies:  9\n",
      "Number of nickels:  -9\n"
     ]
    },
    {
     "name": "stdout",
     "output_type": "stream",
     "text": [
      "Negative values are treated zero\n"
     ]
    },
    {
     "name": "stdin",
     "output_type": "stream",
     "text": [
      "Number of dimes:  10\n",
      "Number of quarters:  25\n"
     ]
    },
    {
     "name": "stdout",
     "output_type": "stream",
     "text": [
      "\n",
      "You have: You have 7 dollars and 34 cents\n"
     ]
    }
   ],
   "source": [
    "print(\"Enter quantities of each coin. Negative values will be treated as zero.\\n\")\n",
    "\n",
    "# Read inputs (assumes the user enters an integer)\n",
    "\n",
    "def check_input (value): # this function \"check_input\" takes a parameter value\n",
    "    # do something\n",
    "    if(value < 0): # if the value is negative; -7 : -7 < 0; 7: 7<0\n",
    "        print(\"Negative values are treated zero\")\n",
    "        value = 0 # force the value to zero value = 0\n",
    "    return value # send back value; 0; 7\n",
    "\n",
    "pennies = int(input(\"Number of pennies: \")) # -8\n",
    "pennies = check_input(pennies) # control flow line 16 jumps to line 5\n",
    "\n",
    "nickels = int(input(\"Number of nickels: \"))\n",
    "nickels = check_input(nickels)\n",
    "\n",
    "dimes = int(input(\"Number of dimes: \"))\n",
    "dimes = check_input(dimes)\n",
    "\n",
    "quarters = int(input(\"Number of quarters: \"))\n",
    "quarters = check_input(quarters)\n",
    "\n",
    "\n",
    "# Compute total cents\n",
    "total_cents = (\n",
    "    pennies * 1 +\n",
    "    nickels * 5 +\n",
    "    dimes * 10 +\n",
    "    quarters * 25 \n",
    ")\n",
    "\n",
    "# Convert to dollars and cents\n",
    "dollars = total_cents // 100\n",
    "cents = total_cents % 100\n",
    "\n",
    "# Output\n",
    "print(\"\\nYou have:\", end=\" \")\n",
    "print(\"You have\", dollars, \"dollars and\", cents, \"cents\")\n"
   ]
  },
  {
   "cell_type": "markdown",
   "id": "9b120fa0-add8-4ec5-9f9a-25e441bee49b",
   "metadata": {},
   "source": [
    "# function enumerate()"
   ]
  },
  {
   "cell_type": "code",
   "execution_count": 3,
   "id": "60ffd5ee-e3ac-46d5-96ac-f66b08986087",
   "metadata": {},
   "outputs": [
    {
     "name": "stdout",
     "output_type": "stream",
     "text": [
      "Index position: 0 Fruit is: apple\n",
      "Index position: 1 Fruit is: grape\n",
      "Index position: 2 Fruit is: cherry\n"
     ]
    }
   ],
   "source": [
    "fruits = [\"apple\", \"grape\", \"cherry\"]\n",
    "for idx, val in enumerate(fruits): # enumerate creates pairs of (index, value) -> ((0, \"apple\"), (1, \"grape\"), (2, \"cherry\"))\n",
    "    print(\"Index position:\", idx, \"Fruit is:\", val)"
   ]
  },
  {
   "cell_type": "code",
   "execution_count": null,
   "id": "ea6ca923-4385-425d-9c03-c923c3fb9706",
   "metadata": {},
   "outputs": [],
   "source": [
    "range(n) # (0, 1, 2, 3, ..., n-1)"
   ]
  },
  {
   "cell_type": "code",
   "execution_count": null,
   "id": "99d47167-e6ad-4e78-9c6e-2e46583038b0",
   "metadata": {},
   "outputs": [],
   "source": [
    "range(3) # (0, 1, 2)"
   ]
  },
  {
   "cell_type": "markdown",
   "id": "c392294e-6584-41b3-9c97-0db4834f3a4f",
   "metadata": {},
   "source": [
    "# library random "
   ]
  },
  {
   "cell_type": "code",
   "execution_count": 2,
   "id": "d164f7a5-7096-4994-828a-11ef4c4e43ce",
   "metadata": {},
   "outputs": [
    {
     "name": "stdout",
     "output_type": "stream",
     "text": [
      "2\n"
     ]
    }
   ],
   "source": [
    "import random\n",
    "\n",
    "num = random.randrange(3)\n",
    "print(num)"
   ]
  },
  {
   "cell_type": "code",
   "execution_count": 26,
   "id": "5c645606-a89c-4420-ac44-ce6bf0e9b996",
   "metadata": {},
   "outputs": [
    {
     "data": {
      "text/plain": [
       "2"
      ]
     },
     "execution_count": 26,
     "metadata": {},
     "output_type": "execute_result"
    }
   ],
   "source": [
    "100214%3"
   ]
  },
  {
   "cell_type": "code",
   "execution_count": 27,
   "id": "4d61584c-1069-43f2-b7a0-ee5d4762cc10",
   "metadata": {},
   "outputs": [
    {
     "data": {
      "text/plain": [
       "0"
      ]
     },
     "execution_count": 27,
     "metadata": {},
     "output_type": "execute_result"
    }
   ],
   "source": [
    "8978967 % 3"
   ]
  },
  {
   "cell_type": "code",
   "execution_count": 31,
   "id": "6e83c800-37cf-4266-82cf-6ec0fbeeaac7",
   "metadata": {},
   "outputs": [
    {
     "data": {
      "text/plain": [
       "2"
      ]
     },
     "execution_count": 31,
     "metadata": {},
     "output_type": "execute_result"
    }
   ],
   "source": [
    "356 % 3"
   ]
  },
  {
   "cell_type": "markdown",
   "id": "4ea07a3b-c46c-477a-b201-a9ad67f35604",
   "metadata": {},
   "source": [
    "# RPS"
   ]
  },
  {
   "cell_type": "markdown",
   "id": "21ef9c54-7460-40e8-afa9-8b455ff6a97c",
   "metadata": {},
   "source": [
    "step1: initialize an array of R P S\n",
    "step2: get user input\n",
    "step3: get computer input (random value for initialized array)\n",
    "step4: make a decision\n",
    "step5: display the result\n",
    " \n",
    "step4: if user input == computer input then its a draw\n",
    "        elif logic for user win\n",
    "        else computer win"
   ]
  },
  {
   "cell_type": "code",
   "execution_count": null,
   "id": "eaee210d-77fb-42ad-b4ba-d7810dbab4de",
   "metadata": {},
   "outputs": [],
   "source": [
    "if (user_input == computer_input):\n",
    "    print(\"Its a draw\")\n",
    "elif(): # logic the condition for user win\n",
    "    print(\"User wins\")\n",
    "else:\n",
    "    print(\"computer wins\")"
   ]
  },
  {
   "cell_type": "code",
   "execution_count": 4,
   "id": "65ce35a2-f27f-4921-bd21-ff329e935ea0",
   "metadata": {},
   "outputs": [
    {
     "name": "stdin",
     "output_type": "stream",
     "text": [
      "Press 0 for Rock. Press 1 for Paper. Press 2 for Scissors 1\n"
     ]
    },
    {
     "name": "stdout",
     "output_type": "stream",
     "text": [
      "The user choice is: Paper\n",
      "The computer choice is: Scissors\n",
      "computer wins\n",
      "User score: 0 computer_score: 1\n"
     ]
    },
    {
     "name": "stdin",
     "output_type": "stream",
     "text": [
      "Do you want to continue? (1/0) 1\n",
      "Press 0 for Rock. Press 1 for Paper. Press 2 for Scissors 2\n"
     ]
    },
    {
     "name": "stdout",
     "output_type": "stream",
     "text": [
      "The user choice is: Scissors\n",
      "The computer choice is: Paper\n",
      "User wins\n",
      "User score: 1 computer_score: 1\n"
     ]
    },
    {
     "name": "stdin",
     "output_type": "stream",
     "text": [
      "Do you want to continue? (1/0) 1\n",
      "Press 0 for Rock. Press 1 for Paper. Press 2 for Scissors 2\n"
     ]
    },
    {
     "name": "stdout",
     "output_type": "stream",
     "text": [
      "The user choice is: Scissors\n",
      "The computer choice is: Scissors\n",
      "Its a draw\n",
      "User score: 1 computer_score: 1\n"
     ]
    },
    {
     "name": "stdin",
     "output_type": "stream",
     "text": [
      "Do you want to continue? (1/0) 1\n",
      "Press 0 for Rock. Press 1 for Paper. Press 2 for Scissors 2\n"
     ]
    },
    {
     "name": "stdout",
     "output_type": "stream",
     "text": [
      "The user choice is: Scissors\n",
      "The computer choice is: Rock\n",
      "computer wins\n",
      "User score: 1 computer_score: 2\n"
     ]
    },
    {
     "name": "stdin",
     "output_type": "stream",
     "text": [
      "Do you want to continue? (1/0) 0\n"
     ]
    },
    {
     "name": "stdout",
     "output_type": "stream",
     "text": [
      "The final scores are:\n",
      "User: 1 Computer: 2\n",
      "Computer is the winner\n"
     ]
    }
   ],
   "source": [
    "def final_result(user_score, computer_score):\n",
    "    print(\"The final scores are:\")\n",
    "    print(\"User:\", user_score, \"Computer:\", computer_score)\n",
    "    if(user_score > computer_score):\n",
    "        print(\"User is the winner\")\n",
    "    elif(user_score < computer_score):\n",
    "        print(\"Computer is the winner\")\n",
    "    else: # user_score == computer_score\n",
    "        print(\"Its a Tie!!!\")\n",
    "\n",
    "user_wins = 0\n",
    "comp_wins = 0\n",
    "while True:\n",
    "\n",
    "    continue_flag = 1\n",
    "    #step 1\n",
    "    choices = [\"Rock\", \"Paper\", \"Scissors\"]\n",
    "    #step 2\n",
    "    while True:\n",
    "        user_input = int(input(\"Press 0 for Rock. Press 1 for Paper. Press 2 for Scissors\"))\n",
    "        if (user_input > 2 or user_input < 0):\n",
    "            print(\"Invalid Input\")\n",
    "            continue # stops the execution and moves to next iteration\n",
    "        else:\n",
    "            break # stops the execution and exits out of the loop \n",
    "    print(\"The user choice is:\", choices[user_input]) # turn on correcponding led\n",
    "    #step3\n",
    "    computer_input = random.randrange(3) # 0, 1, 2\n",
    "    print(\"The computer choice is:\", choices[computer_input]) # turn on correcponding led\n",
    "    \n",
    "    if (user_input == computer_input):\n",
    "        print(\"Its a draw\")\n",
    "    elif((choices[user_input] == \"Rock\" and choices[computer_input] == \"Scissors\") or (choices[user_input] == \"Paper\" and choices[computer_input] == \"Rock\") or (choices[user_input] == \"Scissors\" and choices[computer_input] == \"Paper\")): # logic the condition for user win\n",
    "        print(\"User wins\")\n",
    "        user_wins += 1\n",
    "    else:\n",
    "        print(\"computer wins\")\n",
    "        comp_wins += 1\n",
    "\n",
    "    print(\"User score:\",user_wins, \"computer_score:\", comp_wins )\n",
    "    \n",
    "    continue_flag = int(input(\"Do you want to continue? (1/0)\"))\n",
    "    if(continue_flag == 1):\n",
    "        continue\n",
    "    else:\n",
    "        break\n",
    "\n",
    "final_result(user_wins, comp_wins)    \n",
    "    "
   ]
  },
  {
   "cell_type": "code",
   "execution_count": null,
   "id": "0fafb657-52d5-4552-bb4f-baf8e0a8a7d9",
   "metadata": {},
   "outputs": [],
   "source": [
    "# cases where user wins\n",
    "(choices[user_input] == \"Rock\" and choices[computer_input] == \"Scissors\") or (choices[user_input] == \"Paper\" and choices[computer_input] == \"Rock\") or (choices[user_input] == \"Scissors\" and choices[computer_input] == \"Paper\")"
   ]
  },
  {
   "cell_type": "code",
   "execution_count": null,
   "id": "7d8ebc88-36b4-4f77-8448-7f7952ca6814",
   "metadata": {},
   "outputs": [],
   "source": []
  },
  {
   "cell_type": "code",
   "execution_count": 45,
   "id": "6379456f-c379-4a68-b2c0-bb88f9173a09",
   "metadata": {},
   "outputs": [
    {
     "name": "stdin",
     "output_type": "stream",
     "text": [
      "Press 0 for Rock. Press 1 for Paper. Press 2 for Scissors 1\n"
     ]
    },
    {
     "name": "stdout",
     "output_type": "stream",
     "text": [
      "The user choice is: Paper\n",
      "The computer choice is: Rock\n",
      "User wins\n"
     ]
    },
    {
     "name": "stdin",
     "output_type": "stream",
     "text": [
      "Do you want to continue? (1/0) 1\n",
      "Press 0 for Rock. Press 1 for Paper. Press 2 for Scissors 2\n"
     ]
    },
    {
     "name": "stdout",
     "output_type": "stream",
     "text": [
      "The user choice is: Scissors\n",
      "The computer choice is: Paper\n",
      "User wins\n"
     ]
    },
    {
     "ename": "KeyboardInterrupt",
     "evalue": "Interrupted by user",
     "output_type": "error",
     "traceback": [
      "\u001b[1;31m---------------------------------------------------------------------------\u001b[0m",
      "\u001b[1;31mKeyboardInterrupt\u001b[0m                         Traceback (most recent call last)",
      "Cell \u001b[1;32mIn[45], line 30\u001b[0m\n\u001b[0;32m     27\u001b[0m     \u001b[38;5;28mprint\u001b[39m(\u001b[38;5;124m\"\u001b[39m\u001b[38;5;124mUser wins\u001b[39m\u001b[38;5;124m\"\u001b[39m)\n\u001b[0;32m     28\u001b[0m     user_wins \u001b[38;5;241m+\u001b[39m\u001b[38;5;241m=\u001b[39m \u001b[38;5;241m1\u001b[39m\n\u001b[1;32m---> 30\u001b[0m continue_flag \u001b[38;5;241m=\u001b[39m \u001b[38;5;28mint\u001b[39m(\u001b[38;5;28minput\u001b[39m(\u001b[38;5;124m\"\u001b[39m\u001b[38;5;124mDo you want to continue? (1/0)\u001b[39m\u001b[38;5;124m\"\u001b[39m))\n\u001b[0;32m     31\u001b[0m \u001b[38;5;28;01mif\u001b[39;00m(continue_flag \u001b[38;5;241m==\u001b[39m \u001b[38;5;241m1\u001b[39m):\n\u001b[0;32m     32\u001b[0m     \u001b[38;5;28;01mcontinue\u001b[39;00m\n",
      "File \u001b[1;32m~\\AppData\\Local\\anaconda3\\Lib\\site-packages\\ipykernel\\kernelbase.py:1262\u001b[0m, in \u001b[0;36mKernel.raw_input\u001b[1;34m(self, prompt)\u001b[0m\n\u001b[0;32m   1260\u001b[0m     msg \u001b[38;5;241m=\u001b[39m \u001b[38;5;124m\"\u001b[39m\u001b[38;5;124mraw_input was called, but this frontend does not support input requests.\u001b[39m\u001b[38;5;124m\"\u001b[39m\n\u001b[0;32m   1261\u001b[0m     \u001b[38;5;28;01mraise\u001b[39;00m StdinNotImplementedError(msg)\n\u001b[1;32m-> 1262\u001b[0m \u001b[38;5;28;01mreturn\u001b[39;00m \u001b[38;5;28mself\u001b[39m\u001b[38;5;241m.\u001b[39m_input_request(\n\u001b[0;32m   1263\u001b[0m     \u001b[38;5;28mstr\u001b[39m(prompt),\n\u001b[0;32m   1264\u001b[0m     \u001b[38;5;28mself\u001b[39m\u001b[38;5;241m.\u001b[39m_parent_ident[\u001b[38;5;124m\"\u001b[39m\u001b[38;5;124mshell\u001b[39m\u001b[38;5;124m\"\u001b[39m],\n\u001b[0;32m   1265\u001b[0m     \u001b[38;5;28mself\u001b[39m\u001b[38;5;241m.\u001b[39mget_parent(\u001b[38;5;124m\"\u001b[39m\u001b[38;5;124mshell\u001b[39m\u001b[38;5;124m\"\u001b[39m),\n\u001b[0;32m   1266\u001b[0m     password\u001b[38;5;241m=\u001b[39m\u001b[38;5;28;01mFalse\u001b[39;00m,\n\u001b[0;32m   1267\u001b[0m )\n",
      "File \u001b[1;32m~\\AppData\\Local\\anaconda3\\Lib\\site-packages\\ipykernel\\kernelbase.py:1305\u001b[0m, in \u001b[0;36mKernel._input_request\u001b[1;34m(self, prompt, ident, parent, password)\u001b[0m\n\u001b[0;32m   1302\u001b[0m \u001b[38;5;28;01mexcept\u001b[39;00m \u001b[38;5;167;01mKeyboardInterrupt\u001b[39;00m:\n\u001b[0;32m   1303\u001b[0m     \u001b[38;5;66;03m# re-raise KeyboardInterrupt, to truncate traceback\u001b[39;00m\n\u001b[0;32m   1304\u001b[0m     msg \u001b[38;5;241m=\u001b[39m \u001b[38;5;124m\"\u001b[39m\u001b[38;5;124mInterrupted by user\u001b[39m\u001b[38;5;124m\"\u001b[39m\n\u001b[1;32m-> 1305\u001b[0m     \u001b[38;5;28;01mraise\u001b[39;00m \u001b[38;5;167;01mKeyboardInterrupt\u001b[39;00m(msg) \u001b[38;5;28;01mfrom\u001b[39;00m \u001b[38;5;28;01mNone\u001b[39;00m\n\u001b[0;32m   1306\u001b[0m \u001b[38;5;28;01mexcept\u001b[39;00m \u001b[38;5;167;01mException\u001b[39;00m:\n\u001b[0;32m   1307\u001b[0m     \u001b[38;5;28mself\u001b[39m\u001b[38;5;241m.\u001b[39mlog\u001b[38;5;241m.\u001b[39mwarning(\u001b[38;5;124m\"\u001b[39m\u001b[38;5;124mInvalid Message:\u001b[39m\u001b[38;5;124m\"\u001b[39m, exc_info\u001b[38;5;241m=\u001b[39m\u001b[38;5;28;01mTrue\u001b[39;00m)\n",
      "\u001b[1;31mKeyboardInterrupt\u001b[0m: Interrupted by user"
     ]
    }
   ],
   "source": [
    "user_wins = 0\n",
    "comp_wins = 0\n",
    "while True:\n",
    "\n",
    "    continue_flag = 1\n",
    "    #step 1\n",
    "    choices = [\"Rock\", \"Paper\", \"Scissors\"]\n",
    "    #step 2\n",
    "    while True:\n",
    "        user_input = int(input(\"Press 0 for Rock. Press 1 for Paper. Press 2 for Scissors\"))\n",
    "        if (user_input > 2 or user_input < 0):\n",
    "            print(\"Invalid Input\")\n",
    "            continue # stops the execution and moves to next iteration\n",
    "        else:\n",
    "            break # stops the execution and exits out of the loop \n",
    "    print(\"The user choice is:\", choices[user_input])\n",
    "    #step3\n",
    "    computer_input = random.randrange(3) # 0, 1, 2\n",
    "    print(\"The computer choice is:\", choices[computer_input])\n",
    "    \n",
    "    if (user_input == computer_input):\n",
    "        print(\"Its a draw\")\n",
    "    elif((choices[user_input] == \"Rock\" and choices[computer_input] == \"Scissors\") or (choices[user_input] == \"Paper\" and choices[computer_input] == \"Rock\") or (choices[user_input] == \"Scissors\" and choices[computer_input] == \"Paper\")): # logic the condition for user win\n",
    "        print(\"User wins\")\n",
    "        user_wins += 1\n",
    "    else:\n",
    "        print(\"User wins\") # cheating\n",
    "        user_wins += 1\n",
    "\n",
    "    continue_flag = int(input(\"Do you want to continue? (1/0)\"))\n",
    "    if(continue_flag == 1):\n",
    "        continue\n",
    "    else:\n",
    "        break\n",
    "\n",
    "    "
   ]
  },
  {
   "cell_type": "code",
   "execution_count": null,
   "id": "c21b5c43-2628-43d2-b6e0-65319be49181",
   "metadata": {},
   "outputs": [],
   "source": []
  }
 ],
 "metadata": {
  "kernelspec": {
   "display_name": "Python 3 (ipykernel)",
   "language": "python",
   "name": "python3"
  },
  "language_info": {
   "codemirror_mode": {
    "name": "ipython",
    "version": 3
   },
   "file_extension": ".py",
   "mimetype": "text/x-python",
   "name": "python",
   "nbconvert_exporter": "python",
   "pygments_lexer": "ipython3",
   "version": "3.11.7"
  }
 },
 "nbformat": 4,
 "nbformat_minor": 5
}
