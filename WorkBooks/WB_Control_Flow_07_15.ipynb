{
 "cells": [
  {
   "cell_type": "markdown",
   "id": "3a73d0c3",
   "metadata": {},
   "source": [
    "# Basics if-else in Python"
   ]
  },
  {
   "cell_type": "markdown",
   "id": "87108893",
   "metadata": {},
   "source": [
    "<font size=\"5\">The if-else statement in Python is a control flow statement that allows you to execute certain parts of code based on whether a condition is True or False.</font>\n"
   ]
  },
  {
   "cell_type": "markdown",
   "id": "d6f8092a",
   "metadata": {},
   "source": [
    "# SYNTAX   "
   ]
  },
  {
   "attachments": {
    "e4089625-bc74-4c35-a1dd-d2e0a6afbf55.png": {
     "image/png": "[encoded data removed]"
    }
   },
   "cell_type": "markdown",
   "id": "3f1260ae-e127-44eb-8fd9-52e990eedd2f",
   "metadata": {},
   "source": [
    "![if_else_1.png](attachment:e4089625-bc74-4c35-a1dd-d2e0a6afbf55.png)"
   ]
  },
  {
   "cell_type": "markdown",
   "id": "7a867ebe",
   "metadata": {},
   "source": [
    "Note: There are different ways to logic the **condition** and will learn it throughout the course."
   ]
  },
  {
   "cell_type": "code",
   "execution_count": 5,
   "id": "59e980d3-1164-4627-961b-7dc5d69392a4",
   "metadata": {},
   "outputs": [
    {
     "name": "stdin",
     "output_type": "stream",
     "text": [
      "Please enter number of chips bag you got: 12\n",
      "Please enter the quantity of drink: 200\n"
     ]
    },
    {
     "name": "stdout",
     "output_type": "stream",
     "text": [
      "Please enter!\n"
     ]
    }
   ],
   "source": [
    "# Party entry manager\n",
    "# condition: number of chips bags must be greater than or equal to 2\n",
    "#            and \n",
    "#           drink size must be greater than 32 oz\n",
    "\n",
    "#inputs: number_chips (type: integer ), drink_oz (type: float)\n",
    "#output: entry or not entry \n",
    "#steps:\n",
    "# Get user inputs for number_chips, drink_oz\n",
    "# if the condition is True, grant entry\n",
    "# else deny entry\n",
    "\n",
    "num_chips = int(input(\"Please enter number of chips bag you got:\"))\n",
    "drink_oz = float(input(\"Please enter the quantity of drink:\"))\n",
    "if ((num_chips >= 2) and (drink_oz > 32)): # (32 > 32), (32.1 > 32)\n",
    "    # grant entry\n",
    "    print(\"Please enter!\")\n",
    "else:\n",
    "    # deny entry\n",
    "    print(\"No entry!\")\n",
    "    "
   ]
  },
  {
   "cell_type": "code",
   "execution_count": null,
   "id": "0fef7ebf-d889-4d8e-81de-5a570b3de26c",
   "metadata": {},
   "outputs": [],
   "source": []
  },
  {
   "cell_type": "markdown",
   "id": "90f83f41",
   "metadata": {},
   "source": [
    "# Example: Temperature check\n",
    "\n",
    "Note: This example is incomplete.\n",
    "\n",
    "<font size=\"4\">Imagine you're a meteorologist checking if the temperature is above freezing or below freezing. \n",
    "    \n",
    "<font size=\"4\">(Given: Freezing point is 0 degree celcius)</font>\n",
    "\n",
    "<font size=\"4\">**condition**: \"is the input temperature greater than zero?\"</font>\n",
    "    \n",
    "<font size=\"4\">**yes_statement** i.e., (the input temperature is greater than zero): display that temperature is greater above freezing\n",
    "    \n",
    "<font size=\"4\">**no_statement** i.e., (the input temperature is not greater than zero or the input temperature is less than zero): display that temperature is greater above freezing"
   ]
  },
  {
   "cell_type": "markdown",
   "id": "2aca3d30",
   "metadata": {},
   "source": [
    "# Algorithm\n",
    "\n",
    "**input**: temperature_check  (data type: float)\n",
    "\n",
    "**output**: display the temperature condition\n",
    "\n",
    "**steps**\n",
    "\n",
    "1. declare a variable to store the freezing point of water\n",
    "\n",
    "2. declare and get user input for the variable temperature_check\n",
    "\n",
    "2. check if the value stored in the variable temperature_check is greater than the freezing point of water\n",
    "\n",
    "3. if it is true then display that the input temperature is above freezing point\n",
    "\n",
    "4. else display that the input temperature is below freezing point"
   ]
  },
  {
   "cell_type": "code",
   "execution_count": 8,
   "id": "25ea74ae",
   "metadata": {},
   "outputs": [
    {
     "name": "stdin",
     "output_type": "stream",
     "text": [
      "Please enter the temp in degree celcius: -32\n"
     ]
    },
    {
     "name": "stdout",
     "output_type": "stream",
     "text": [
      "Temp is below freezing point!\n"
     ]
    }
   ],
   "source": [
    "# assume that temps reading is in degree celcius\n",
    "# declare a variable to hold the value of freezing point of water in degree celcius\n",
    "freezing_point = 0\n",
    "# get user input, (pay attention to the type of data stored here)\n",
    "temperature_check = float(input(\"Please enter the temp in degree celcius:\"))\n",
    "if (temperature_check > freezing_point): # check the condition, whether the temperature is greater than freezing point\n",
    "    # display here: the input temperature is above freezing point\n",
    "    print(\"Temp is above freezing point!\")\n",
    "else: \n",
    "    # display here: the input temperature is below freezing point\n",
    "    print(\"Temp is below freezing point!\")"
   ]
  },
  {
   "cell_type": "code",
   "execution_count": null,
   "id": "9c3ae83b",
   "metadata": {},
   "outputs": [],
   "source": []
  },
  {
   "cell_type": "markdown",
   "id": "45d389be",
   "metadata": {},
   "source": [
    "# Example: \n",
    "\n",
    "<font size=\"4\">Check if your account balance is positive or negative.</font>"
   ]
  },
  {
   "cell_type": "markdown",
   "id": "411de95d",
   "metadata": {},
   "source": [
    "# Algorithm\n",
    "\n",
    "**input**: balance_check  (data type:___________*_______)\n",
    "\n",
    "**output**: display the status of your account \n",
    "\n",
    "**steps**\n",
    "\n",
    "1. declare and get user input for the variable balance_check\n",
    "\n",
    "2. check if the value stored in the variable balance_check is greater than 0\n",
    "\n",
    "3. if it is true then display : doing okay!\n",
    "\n",
    "4. else display : hahahaha (jk)"
   ]
  },
  {
   "cell_type": "code",
   "execution_count": 9,
   "id": "58fd3928",
   "metadata": {},
   "outputs": [
    {
     "name": "stdin",
     "output_type": "stream",
     "text": [
      "Balance: 0\n"
     ]
    },
    {
     "name": "stdout",
     "output_type": "stream",
     "text": [
      "You are broke!\n"
     ]
    }
   ],
   "source": [
    "balance_check = float(input(\"Balance:\"))\n",
    "\n",
    "if(balance_check > 0):\n",
    "    print(\"Doing okay!\")\n",
    "else:\n",
    "    print(\"You are broke!\")"
   ]
  },
  {
   "cell_type": "markdown",
   "id": "988d7c54-680e-43c7-a398-e76769dd87ce",
   "metadata": {},
   "source": [
    "# if, if-else, if-elif-else"
   ]
  },
  {
   "attachments": {
    "70860f77-fc41-4a99-98af-6f14241a7772.png": {
     "image/png": "[encoded data removed]"
    }
   },
   "cell_type": "markdown",
   "id": "c834c33a-4a64-4ff6-b6b2-a54c7c98d8bc",
   "metadata": {},
   "source": [
    "![if_else_2.png](attachment:70860f77-fc41-4a99-98af-6f14241a7772.png)"
   ]
  },
  {
   "cell_type": "code",
   "execution_count": null,
   "id": "ed306d9d",
   "metadata": {},
   "outputs": [],
   "source": [
    "# complete temperature check problem"
   ]
  },
  {
   "cell_type": "code",
   "execution_count": null,
   "id": "6151d7e2",
   "metadata": {},
   "outputs": [],
   "source": []
  },
  {
   "cell_type": "code",
   "execution_count": null,
   "id": "4cf143e7",
   "metadata": {},
   "outputs": [],
   "source": []
  },
  {
   "cell_type": "markdown",
   "id": "ce5ed0e5",
   "metadata": {},
   "source": [
    "# Example: Temperature conversion (F to C or C to F)\n",
    "\n",
    "\n",
    "<font size=\"4\">Write a Python program that converts a temperature from Celsius to Fahrenheit or from Fahrenheit to Celsius based on the user's input. The program should prompt the user to enter a temperature value and the scale they're converting from (either 'C' for Celsius or 'F' for Fahrenheit). Then, it should perform the appropriate conversion and display the result. Use an if-else statement to handle the conversion logic. </font>\n"
   ]
  },
  {
   "cell_type": "markdown",
   "id": "70eb20b3",
   "metadata": {},
   "source": [
    "**conversion formulas**\n",
    "\n",
    "**C** to **F**: $ F = (C * 9/5) + 32 $\n",
    "\n",
    "**F** to **C**: $ C = (F - 32) * 5/9 $"
   ]
  },
  {
   "cell_type": "markdown",
   "id": "54080b8f",
   "metadata": {},
   "source": [
    "Sample: \n",
    "\n",
    "Input: Temperature: 100\n",
    "\n",
    "Scale: 'C'\n",
    "\n",
    "Output:\n",
    "\n",
    "100 degrees Celsius is 212 degrees Fahrenheit.\n"
   ]
  },
  {
   "cell_type": "markdown",
   "id": "cc52ef27",
   "metadata": {},
   "source": [
    "# Algorithm\n",
    "\n",
    "Note: There are a number of ways to solve this problem.\n",
    "\n",
    "**inputs**: (data types:) temp_type (string), temp_value (float)\n",
    "\n",
    "**output**: display the converted value along with its unit and corresponding inputs\n",
    "\n",
    "**steps**:\n",
    "\n",
    "1. Declare and get inputs for ______________, _______________\n",
    "\n",
    "2. Check weather  ________________ is equal to 'C'\n",
    "\n",
    "3. if it is true then convert the input temperature from C to F using the above formula and dispaly the output\n",
    "\n",
    "4. else check weather ________________ is equal to 'F'\n",
    "\n",
    "5. if it is true then convert the input temperature from F to C using the above formula and dispaly the output\n",
    "\n",
    "6. else display invalid temperature scale"
   ]
  },
  {
   "cell_type": "markdown",
   "id": "d2d260b4-d6e5-4daa-9943-c6c3fea94404",
   "metadata": {},
   "source": [
    "**conversion formulas**\n",
    "\n",
    "**C** to **F**: $ F = (C * 9/5) + 32 $\n",
    "\n",
    "**F** to **C**: $ C = (F - 32) * 5/9 $"
   ]
  },
  {
   "cell_type": "code",
   "execution_count": 13,
   "id": "99a4bbf7-5014-4a0f-8307-ef92041f6548",
   "metadata": {},
   "outputs": [
    {
     "name": "stdin",
     "output_type": "stream",
     "text": [
      "Whats your temperature unit: C/F? c\n",
      "Please neter temp value: 23\n"
     ]
    },
    {
     "name": "stdout",
     "output_type": "stream",
     "text": [
      "from else\n",
      "The converted temp is: -5.0\n"
     ]
    }
   ],
   "source": [
    "temp_type = input(\"Whats your temperature unit: C/F?\") # C or F\n",
    "temp_value = float(input(\"Please neter temp value:\"))\n",
    "\n",
    "if (temp_type == 'C'): # convert from C to F\n",
    "    print(\"from if\")\n",
    "    temp_converted = (temp_value  * 9 / 5) + 32\n",
    "else:\n",
    "    print(\"from else\")\n",
    "    temp_converted = (temp_value - 32) * 5 / 9\n",
    "\n",
    "print(\"The converted temp is:\", temp_converted)"
   ]
  },
  {
   "cell_type": "code",
   "execution_count": 14,
   "id": "a95f86bd-c388-4822-8947-640fc420d9b9",
   "metadata": {},
   "outputs": [
    {
     "name": "stdin",
     "output_type": "stream",
     "text": [
      "Whats your temperature unit: C/F? c\n",
      "Please neter temp value: 25\n"
     ]
    },
    {
     "name": "stdout",
     "output_type": "stream",
     "text": [
      "from if\n",
      "The converted temp is: 77.0\n"
     ]
    }
   ],
   "source": [
    "temp_type = input(\"Whats your temperature unit: C/F?\") # C or F\n",
    "temp_value = float(input(\"Please neter temp value:\"))\n",
    "\n",
    "if (temp_type == 'C' or temp_type == 'c'): # convert from C to F\n",
    "    print(\"from if\")\n",
    "    temp_converted = (temp_value  * 9 / 5) + 32\n",
    "else:\n",
    "    print(\"from else\")\n",
    "    temp_converted = (temp_value - 32) * 5 / 9\n",
    "\n",
    "print(\"The converted temp is:\", temp_converted)"
   ]
  },
  {
   "cell_type": "code",
   "execution_count": 17,
   "id": "2260e215-4b8b-4ac0-9751-bf7b44d30a7b",
   "metadata": {},
   "outputs": [
    {
     "name": "stdin",
     "output_type": "stream",
     "text": [
      "Whats your temperature unit: C/F? c\n",
      "Please neter temp value: 25\n"
     ]
    },
    {
     "name": "stdout",
     "output_type": "stream",
     "text": [
      "from if\n",
      "The converted temp is: 77.0\n"
     ]
    }
   ],
   "source": [
    "temp_type = input(\"Whats your temperature unit: C/F?\").upper() # method chaining\n",
    "temp_value = float(input(\"Please neter temp value:\"))\n",
    "\n",
    "if (temp_type == 'C'): # convert from C to F\n",
    "    print(\"from if\")\n",
    "    temp_converted = (temp_value  * 9 / 5) + 32\n",
    "else:\n",
    "    print(\"from else\")\n",
    "    temp_converted = (temp_value - 32) * 5 / 9\n",
    "\n",
    "print(\"The converted temp is:\", temp_converted)"
   ]
  },
  {
   "cell_type": "code",
   "execution_count": 16,
   "id": "56c5d97a-6318-468f-99a0-fd1a1c158df0",
   "metadata": {},
   "outputs": [
    {
     "data": {
      "text/plain": [
       "'C'"
      ]
     },
     "execution_count": 16,
     "metadata": {},
     "output_type": "execute_result"
    }
   ],
   "source": [
    "\"c\".upper()"
   ]
  },
  {
   "cell_type": "code",
   "execution_count": 21,
   "id": "32ceb97c-3dfa-4c00-9890-b912a3d1e86a",
   "metadata": {},
   "outputs": [
    {
     "name": "stdin",
     "output_type": "stream",
     "text": [
      "Whats your temperature unit: C/F? vikas\n",
      "Please neter temp value: 23\n"
     ]
    },
    {
     "name": "stdout",
     "output_type": "stream",
     "text": [
      "Invalid temp unit! Try again!\n"
     ]
    }
   ],
   "source": [
    "temp_type = input(\"Whats your temperature unit: C/F?\").upper() # method chaining\n",
    "temp_value = float(input(\"Please neter temp value:\"))\n",
    "\n",
    "if (temp_type == 'C'): # convert from C to F\n",
    "    print(\"from if\")\n",
    "    temp_converted = (temp_value  * 9 / 5) + 32\n",
    "    print(\"The converted temp is:\", temp_converted)\n",
    "elif (temp_type == 'F'):\n",
    "    print(\"from el if\")\n",
    "    temp_converted = (temp_value - 32) * 5 / 9\n",
    "    print(\"The converted temp is:\", temp_converted)\n",
    "else:\n",
    "    print(\"Invalid temp unit! Try again!\")\n",
    "\n"
   ]
  },
  {
   "cell_type": "code",
   "execution_count": 22,
   "id": "61dffd42-2df1-407d-9b82-5800563a3704",
   "metadata": {},
   "outputs": [
    {
     "name": "stdin",
     "output_type": "stream",
     "text": [
      "Whats your temperature unit: C/F? vikas\n"
     ]
    },
    {
     "name": "stdout",
     "output_type": "stream",
     "text": [
      "Invalid temp unit! Try again!\n"
     ]
    }
   ],
   "source": [
    "temp_type = input(\"Whats your temperature unit: C/F?\").upper() # method chaining\n",
    "\n",
    "\n",
    "if (temp_type == 'C'): # convert from C to F\n",
    "    temp_value = float(input(\"Please enter temp value:\"))\n",
    "    print(\"from if\")\n",
    "    temp_converted = (temp_value  * 9 / 5) + 32\n",
    "    print(\"The converted temp is:\", temp_converted)\n",
    "elif (temp_type == 'F'):\n",
    "    temp_value = float(input(\"Please enter temp value:\"))\n",
    "    print(\"from el if\")\n",
    "    temp_converted = (temp_value - 32) * 5 / 9\n",
    "    print(\"The converted temp is:\", temp_converted)\n",
    "else:\n",
    "    print(\"Invalid temp unit! Try again!\")\n",
    "\n"
   ]
  },
  {
   "cell_type": "code",
   "execution_count": null,
   "id": "687206b7-5f0d-44dc-b3e5-34faa63418c3",
   "metadata": {},
   "outputs": [],
   "source": []
  },
  {
   "cell_type": "code",
   "execution_count": null,
   "id": "4371a62a",
   "metadata": {},
   "outputs": [],
   "source": [
    "# declare a varible called ___________ and prompt the user to enter the temperature value\n",
    "\n",
    "\n",
    "# declare a varible called ___________ and prompt the user to enter the scale ('C' for Celsius, 'F' for Fahrenheit)\n",
    "\n",
    "# Perform the conversion based on the scale\n",
    "if ______ == 'C':\n",
    "    # Convert from Celsius to Fahrenheit\n",
    "    # formula in PYTHON EXPRESSION format\n",
    "    \n",
    "    #converted_scale = 'Fahrenheit'\n",
    "    print()  # Display the result\n",
    "elif ______ == 'F':\n",
    "    # Convert from Fahrenheit to Celsius\n",
    "    # formula in PYTHON EXPRESSION format\n",
    "    \n",
    "    #converted_scale = 'Celsius'\n",
    "    print()  # Display the result\n",
    "else:\n",
    "    # Display invalid scale input\n",
    "    print()\n",
    "    \n",
    "\n",
    "\n"
   ]
  },
  {
   "cell_type": "markdown",
   "id": "c9837c52",
   "metadata": {},
   "source": [
    "# Nested if-else"
   ]
  },
  {
   "cell_type": "markdown",
   "id": "f64f9067",
   "metadata": {},
   "source": [
    "# Example: Party entry\n",
    "\n",
    "<font size=\"4\">Imagine that there is a party and you will enter only if you bring a minimum 750 gram chips and 125oz soda. Write a python script to check this and grant entry.</font>"
   ]
  },
  {
   "cell_type": "markdown",
   "id": "8bb798b8",
   "metadata": {},
   "source": [
    "# Algorithm\n",
    "\n",
    "**inputs**: chips_min = 750, soda_min = 125, chips_input, chips_output\n",
    "\n",
    "**output**:  grant entry or not\n",
    "\n",
    "**steps**: \n",
    "\n",
    "1. Declare and initialize the constants: chips_min, soda_min\n",
    "\n",
    "2. Get user inputs for "
   ]
  },
  {
   "cell_type": "code",
   "execution_count": null,
   "id": "b58d3738-1bdd-467e-83e4-d04ecf2047f2",
   "metadata": {},
   "outputs": [],
   "source": []
  },
  {
   "cell_type": "code",
   "execution_count": null,
   "id": "c23bb0cd-5ea2-48be-aa54-edef96499624",
   "metadata": {},
   "outputs": [],
   "source": []
  },
  {
   "cell_type": "markdown",
   "id": "5e9fea96-8140-4e97-bbd9-5c3ff61ab258",
   "metadata": {},
   "source": [
    "# Problem: Ckeck if an input year is a leap year or not"
   ]
  },
  {
   "cell_type": "code",
   "execution_count": null,
   "id": "e1426915-aba6-4171-9a8d-d055d8ebd8c1",
   "metadata": {},
   "outputs": [],
   "source": [
    "# "
   ]
  }
 ],
 "metadata": {
  "kernelspec": {
   "display_name": "Python 3 (ipykernel)",
   "language": "python",
   "name": "python3"
  },
  "language_info": {
   "codemirror_mode": {
    "name": "ipython",
    "version": 3
   },
   "file_extension": ".py",
   "mimetype": "text/x-python",
   "name": "python",
   "nbconvert_exporter": "python",
   "pygments_lexer": "ipython3",
   "version": "3.11.7"
  }
 },
 "nbformat": 4,
 "nbformat_minor": 5
}
