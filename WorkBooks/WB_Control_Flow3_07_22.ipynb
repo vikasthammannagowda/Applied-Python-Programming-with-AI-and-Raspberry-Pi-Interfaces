{
 "cells": [
  {
   "cell_type": "markdown",
   "id": "d38ff9e1-f573-43f4-9584-376935b88e5c",
   "metadata": {},
   "source": [
    "# Truthiness & Falsiness"
   ]
  },
  {
   "cell_type": "code",
   "execution_count": 15,
   "id": "36c7c10c-2c00-4968-bab3-035615d2c6f5",
   "metadata": {},
   "outputs": [
    {
     "name": "stdout",
     "output_type": "stream",
     "text": [
      "From if\n"
     ]
    }
   ],
   "source": [
    "\n",
    "# Any value can be tested in an if—not just True/False.\n",
    "# Zero, empty sequences/collections (\"\", [], {}), and None are falsy; everything else is truthy.\n",
    "\n",
    "num = 10\n",
    "if num >= 10: # 10 >= 10\n",
    "    print(\"From if\")\n",
    "else:\n",
    "    print(\"From else\")"
   ]
  },
  {
   "cell_type": "code",
   "execution_count": 17,
   "id": "095313d0-3f15-4c90-82ab-9d0ec56713b3",
   "metadata": {},
   "outputs": [
    {
     "name": "stdout",
     "output_type": "stream",
     "text": [
      "From if\n"
     ]
    }
   ],
   "source": [
    "num = 10\n",
    "if num: # 10 is True\n",
    "    print(\"From if\")\n",
    "else:\n",
    "    print(\"From else\")"
   ]
  },
  {
   "cell_type": "code",
   "execution_count": 18,
   "id": "6d2c91c1-3040-4c64-8487-5b3385c05114",
   "metadata": {},
   "outputs": [
    {
     "name": "stdout",
     "output_type": "stream",
     "text": [
      "From else\n"
     ]
    }
   ],
   "source": [
    "if 0: # 0 is considered a False\n",
    "    print(\"From if\")\n",
    "else:\n",
    "    print(\"From else\")"
   ]
  },
  {
   "cell_type": "code",
   "execution_count": 19,
   "id": "d837d650-238f-4f25-a40f-5450967c0c7c",
   "metadata": {},
   "outputs": [
    {
     "name": "stdout",
     "output_type": "stream",
     "text": [
      "From if\n"
     ]
    }
   ],
   "source": [
    "if -20:\n",
    "    print(\"From if\")\n",
    "else:\n",
    "    print(\"From else\")"
   ]
  },
  {
   "cell_type": "code",
   "execution_count": 20,
   "id": "5f9cfe03-f439-4ea5-b08a-8affd71a9be3",
   "metadata": {},
   "outputs": [
    {
     "name": "stdout",
     "output_type": "stream",
     "text": [
      "From else\n"
     ]
    }
   ],
   "source": [
    "num = None\n",
    "if num:\n",
    "    print(\"From if\")\n",
    "else:\n",
    "    print(\"From else\")"
   ]
  },
  {
   "cell_type": "markdown",
   "id": "4ba36afb-ad41-49f9-96f3-d056584cf0c1",
   "metadata": {},
   "source": [
    "# All non zero numbers (+ve and -ve) are considered as True"
   ]
  },
  {
   "cell_type": "markdown",
   "id": "4e601063-ba7d-423f-a42e-be436e03c589",
   "metadata": {},
   "source": [
    "# Zero and None are considered False"
   ]
  },
  {
   "cell_type": "code",
   "execution_count": null,
   "id": "7412fb3f-81c5-4941-ae7b-5fe1850b5977",
   "metadata": {},
   "outputs": [],
   "source": []
  },
  {
   "cell_type": "code",
   "execution_count": null,
   "id": "76e5ea44-bef2-4e18-8698-08ebedce80dd",
   "metadata": {},
   "outputs": [],
   "source": []
  },
  {
   "cell_type": "markdown",
   "id": "9526b743-a892-489e-91ca-1d0322542931",
   "metadata": {},
   "source": [
    "# \"pass\" as a Placeholder"
   ]
  },
  {
   "cell_type": "code",
   "execution_count": 21,
   "id": "f435698a-710c-4c54-bf39-48e34a08aef2",
   "metadata": {},
   "outputs": [
    {
     "name": "stdout",
     "output_type": "stream",
     "text": [
      "From if\n"
     ]
    }
   ],
   "source": [
    "#Use pass when you need an empty block (e.g. during stubs or debugging)\n",
    "\n",
    "value = 12\n",
    "if value > 12:\n",
    "    pass    # TODO: implement later\n",
    "else:\n",
    "    print(\"From if\")\n"
   ]
  },
  {
   "cell_type": "code",
   "execution_count": 22,
   "id": "f966802e-2a75-4210-8755-9cac12435b08",
   "metadata": {},
   "outputs": [],
   "source": [
    "value = 14\n",
    "if value > 12: # 14 > 12\n",
    "    pass    # TODO: implement later\n",
    "else:\n",
    "    print(\"From if\")"
   ]
  },
  {
   "cell_type": "code",
   "execution_count": null,
   "id": "4558ee52-29cc-42a5-9071-5d661d961c62",
   "metadata": {},
   "outputs": [],
   "source": []
  },
  {
   "cell_type": "code",
   "execution_count": null,
   "id": "168dd612-7927-4fe8-bf1e-7868445ef754",
   "metadata": {},
   "outputs": [],
   "source": []
  },
  {
   "cell_type": "markdown",
   "id": "901f83ad-04be-47cf-ad13-a33cca2e3dc4",
   "metadata": {},
   "source": [
    "# Comparison Chaining"
   ]
  },
  {
   "cell_type": "code",
   "execution_count": 29,
   "id": "733a3f94-a361-456d-b2e6-9b9fedce925c",
   "metadata": {},
   "outputs": [
    {
     "name": "stdin",
     "output_type": "stream",
     "text": [
      "Please enter a number 12.5\n"
     ]
    },
    {
     "ename": "ValueError",
     "evalue": "invalid literal for int() with base 10: '12.5'",
     "output_type": "error",
     "traceback": [
      "\u001b[1;31m---------------------------------------------------------------------------\u001b[0m",
      "\u001b[1;31mValueError\u001b[0m                                Traceback (most recent call last)",
      "Cell \u001b[1;32mIn[29], line 2\u001b[0m\n\u001b[0;32m      1\u001b[0m \u001b[38;5;66;03m#check if the input number is between 2 and 10 (including both)\u001b[39;00m\n\u001b[1;32m----> 2\u001b[0m num \u001b[38;5;241m=\u001b[39m \u001b[38;5;28mint\u001b[39m(\u001b[38;5;28minput\u001b[39m(\u001b[38;5;124m\"\u001b[39m\u001b[38;5;124mPlease enter a number\u001b[39m\u001b[38;5;124m\"\u001b[39m))\n\u001b[0;32m      3\u001b[0m \u001b[38;5;28mprint\u001b[39m(num)\n",
      "\u001b[1;31mValueError\u001b[0m: invalid literal for int() with base 10: '12.5'"
     ]
    }
   ],
   "source": [
    "#check if the input number is between 2 and 10 (including both)\n",
    "num = int(input(\"Please enter a number\")) # you are trying to convert a string to an integer\n",
    "print(num)\n"
   ]
  },
  {
   "cell_type": "code",
   "execution_count": 24,
   "id": "c7e47d6c-42fa-4210-ae58-d7718000c338",
   "metadata": {},
   "outputs": [
    {
     "data": {
      "text/plain": [
       "12"
      ]
     },
     "execution_count": 24,
     "metadata": {},
     "output_type": "execute_result"
    }
   ],
   "source": [
    "value = 12.5 # double\n",
    "int(value)"
   ]
  },
  {
   "cell_type": "code",
   "execution_count": 30,
   "id": "92e986fb-4944-4212-ad2d-e2a696b23984",
   "metadata": {},
   "outputs": [
    {
     "name": "stdin",
     "output_type": "stream",
     "text": [
      "Please enter a number 20\n"
     ]
    },
    {
     "name": "stdout",
     "output_type": "stream",
     "text": [
      "20 is not between 2 and 10\n"
     ]
    }
   ],
   "source": [
    "#check if the input number is between 2 and 10 (including both)\n",
    "num = int(input(\"Please enter a number\"))\n",
    "\n",
    "if((num >= 2) and (num<=10)):\n",
    "    print(f\"{num} is between 2 and 10\")\n",
    "else:\n",
    "    print(f\"{num} is not between 2 and 10\")"
   ]
  },
  {
   "cell_type": "code",
   "execution_count": 31,
   "id": "30e635eb-e8bd-4cca-8d69-2561205bb142",
   "metadata": {},
   "outputs": [
    {
     "name": "stdin",
     "output_type": "stream",
     "text": [
      "Please enter a number 120\n"
     ]
    },
    {
     "name": "stdout",
     "output_type": "stream",
     "text": [
      "120 is not between 2 and 10\n"
     ]
    }
   ],
   "source": [
    "num = int(input(\"Please enter a number\"))\n",
    "\n",
    "if((num >= 2) and (num<=10)):\n",
    "    print(num,\"is between 2 and 10\")\n",
    "else:\n",
    "    print(num ,\"is not between 2 and 10\")"
   ]
  },
  {
   "cell_type": "code",
   "execution_count": 33,
   "id": "8827d8ca-9546-4295-a010-991e486ab601",
   "metadata": {},
   "outputs": [
    {
     "name": "stdin",
     "output_type": "stream",
     "text": [
      "Please enter a number 2\n"
     ]
    },
    {
     "name": "stdout",
     "output_type": "stream",
     "text": [
      "2 is between 2 and 10\n"
     ]
    }
   ],
   "source": [
    "#check if the input number is between 2 and 10 (including both)\n",
    "num = int(input(\"Please enter a number\"))\n",
    "\n",
    "if(2 <= num <= 10):\n",
    "    print(f\"{num} is between 2 and 10\")\n",
    "else:\n",
    "    print(f\"{num} is not between 2 and 10\")"
   ]
  },
  {
   "cell_type": "code",
   "execution_count": null,
   "id": "755c1fd5-6196-43ba-bde2-a2b0e5d75cf2",
   "metadata": {},
   "outputs": [],
   "source": []
  },
  {
   "cell_type": "markdown",
   "id": "73ba1a1c-c745-4faa-ad77-0b5e90b19cda",
   "metadata": {},
   "source": [
    "# The “Ternary” Conditional Expression"
   ]
  },
  {
   "cell_type": "code",
   "execution_count": 34,
   "id": "a73a0f7c-fb11-4175-a9ef-d76cd3702d18",
   "metadata": {},
   "outputs": [
    {
     "name": "stdin",
     "output_type": "stream",
     "text": [
      "Please enter a number: 1\n"
     ]
    },
    {
     "name": "stdout",
     "output_type": "stream",
     "text": [
      "Fail\n"
     ]
    }
   ],
   "source": [
    "#A single‐line if-else that returns a value:\n",
    "\n",
    "score = int(input(\"Please enter a number:\"))\n",
    "\n",
    "if score >= 50:\n",
    "    status = \"OK\"\n",
    "else:\n",
    "    status = \"Fail\"\n",
    "\n",
    "print(status)"
   ]
  },
  {
   "cell_type": "code",
   "execution_count": 36,
   "id": "aea01a22-a489-404e-bdac-dc404bc87bc5",
   "metadata": {},
   "outputs": [
    {
     "name": "stdin",
     "output_type": "stream",
     "text": [
      "Please enter a number: 2\n"
     ]
    },
    {
     "name": "stdout",
     "output_type": "stream",
     "text": [
      "Fail\n"
     ]
    }
   ],
   "source": [
    "#A single‐line if-else that returns a value:\n",
    "\n",
    "score = int(input(\"Please enter a number:\"))\n",
    "\n",
    "# From line 5 to line 8 in the above code\n",
    "# status is \"OK\" if score is greater than or equal to 50 else \"Fail\"\n",
    "status = \"OK\" if score >= 50 else \"Fail\"\n",
    "\n",
    "print(status)"
   ]
  },
  {
   "cell_type": "code",
   "execution_count": null,
   "id": "5f8770b3-51c7-40b6-8f31-8e0bb7ffb8e4",
   "metadata": {},
   "outputs": [],
   "source": []
  }
 ],
 "metadata": {
  "kernelspec": {
   "display_name": "Python 3 (ipykernel)",
   "language": "python",
   "name": "python3"
  },
  "language_info": {
   "codemirror_mode": {
    "name": "ipython",
    "version": 3
   },
   "file_extension": ".py",
   "mimetype": "text/x-python",
   "name": "python",
   "nbconvert_exporter": "python",
   "pygments_lexer": "ipython3",
   "version": "3.11.7"
  }
 },
 "nbformat": 4,
 "nbformat_minor": 5
}
