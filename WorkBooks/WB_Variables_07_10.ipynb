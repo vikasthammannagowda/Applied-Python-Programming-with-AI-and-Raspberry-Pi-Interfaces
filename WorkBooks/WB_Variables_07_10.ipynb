{
 "cells": [
  {
   "cell_type": "markdown",
   "id": "4c11e29b-4344-4329-a157-f70cccdf594a",
   "metadata": {},
   "source": [
    "# VARIABLES\n",
    "**They are data storage containers with a label/name.**\n",
    "\n",
    "i.e., A variable has two main components: DATA + LABEL"
   ]
  },
  {
   "cell_type": "markdown",
   "id": "56a316c7-b40c-4a8d-846e-073e01bb0863",
   "metadata": {},
   "source": [
    "# IDENTIFIERS\n",
    "**They are the name for variables.**"
   ]
  },
  {
   "cell_type": "markdown",
   "id": "a34182be-8853-416b-a4cb-393b172742b1",
   "metadata": {},
   "source": [
    "Example: You want to store the value of radius of a circle.\n",
    "\n",
    "What are the components you need?\n",
    "\n",
    "Solution:\n",
    "\n",
    "\n",
    "#"
   ]
  },
  {
   "cell_type": "markdown",
   "id": "125fc6d5-6a6e-4604-acf9-6bd0f14e1513",
   "metadata": {},
   "source": [
    "# Rules for identifiers\n",
    "\n",
    "1. **Python is a case-sensitive language.**\n",
    "\n",
    "   Ex: radius, Radius, RADIUS are three distinct identifiers.\n",
    "\n",
    "2. **Identifiers can only consist of letters, digits or underscores.**\n",
    "\n",
    "    Ex: radius_2, Radius_02, _2radius are valid identifiers.\n",
    "\n",
    "    Ex: radius%, radius.2, #radius are invalid identifiers.\n",
    "\n",
    "3. **An identifier cannot start with a digit.**\n",
    "\n",
    "    Ex: 2_radius, 12_area, 2radius are invalid identifiers.\n",
    "\n",
    "4. **A special class of identifiers called Keywords must be used as it is.**\n",
    "\n",
    "    Ex: print, if, for, while, input cannot be used as identifiers.\n",
    "\n",
    "5. **An identifier can be of any length as long as the above rules are maintained.**\n",
    "\n",
    "    Ex: radius_circle, length_rectangle\n"
   ]
  },
  {
   "cell_type": "markdown",
   "id": "0a2fc2f5-24bb-4919-aa96-4fc76a7c7b1b",
   "metadata": {},
   "source": [
    "# Variable declaration and assignment\n",
    "\n",
    "# SYNTAX: $identifier = value $ \n",
    "\n",
    "Example: length_rectangle = 10 "
   ]
  },
  {
   "cell_type": "code",
   "execution_count": 1,
   "id": "57c0be6a-2059-4078-9350-512f0bef3643",
   "metadata": {},
   "outputs": [],
   "source": [
    "length_rectangle = 10"
   ]
  },
  {
   "cell_type": "markdown",
   "id": "8806f20e-5bfc-4602-9115-ae59db397b25",
   "metadata": {},
   "source": [
    "# Problem 1\n",
    "**A rectangle has a length of 10 units and a width of 15 units. Find its area**\n"
   ]
  },
  {
   "cell_type": "markdown",
   "id": "1ca25e13-3212-42e2-90a0-a4752ef4f4e9",
   "metadata": {},
   "source": [
    "**Algorithm**\n",
    "\n",
    "Inputs: length_rect = 10, width_rect = 15\n",
    "\n",
    "Output: area_rect\n",
    "\n",
    "Steps:\n",
    "\n",
    "1. Create a variable named **length_rect** and assign the value **10**.\n",
    "2. Create a variable named **width_rect** and assign the value **15**.\n",
    "3. Create a variable named **area_rect** and asign the value according to the logic:\n",
    "\n",
    "        area_rect = length_rect * width_rect\n",
    "4. Display the result\n",
    "\n",
    "        "
   ]
  },
  {
   "cell_type": "code",
   "execution_count": 2,
   "id": "be4a04de-4255-4481-ad58-ee09dda7f452",
   "metadata": {},
   "outputs": [
    {
     "name": "stdout",
     "output_type": "stream",
     "text": [
      "The area of rectangle is: 150\n"
     ]
    }
   ],
   "source": [
    "length_rect = 10\n",
    "width_rect = 15\n",
    "area_rect = length_rect * width_rect\n",
    "print(\"The area of rectangle is:\", area_rect)"
   ]
  },
  {
   "cell_type": "code",
   "execution_count": 17,
   "id": "7d61a89a-d039-49b2-b73e-79c8f536ee97",
   "metadata": {},
   "outputs": [
    {
     "name": "stdout",
     "output_type": "stream",
     "text": [
      "The area of rectangle is: 150\n"
     ]
    }
   ],
   "source": [
    "print(\"The area of rectangle is:\", length_rect*width_rect)"
   ]
  },
  {
   "cell_type": "code",
   "execution_count": null,
   "id": "b0fbb64a-12a6-465f-b1d4-e1b4ebbe3679",
   "metadata": {},
   "outputs": [],
   "source": []
  },
  {
   "cell_type": "code",
   "execution_count": 3,
   "id": "dcd5dd69-14a7-42f9-918a-a507b96d1e9f",
   "metadata": {},
   "outputs": [
    {
     "name": "stdout",
     "output_type": "stream",
     "text": [
      "150\n"
     ]
    }
   ],
   "source": [
    "print(area_rect)"
   ]
  },
  {
   "cell_type": "code",
   "execution_count": 4,
   "id": "aa6e2a13-be52-4c3d-bee6-1afd012d237f",
   "metadata": {},
   "outputs": [
    {
     "name": "stdout",
     "output_type": "stream",
     "text": [
      "10\n"
     ]
    }
   ],
   "source": [
    "print(length_rect)"
   ]
  },
  {
   "cell_type": "code",
   "execution_count": 5,
   "id": "ebf50423-d139-409c-ae9b-71fef09879c4",
   "metadata": {},
   "outputs": [
    {
     "name": "stdout",
     "output_type": "stream",
     "text": [
      "Zoro\n"
     ]
    }
   ],
   "source": [
    "character = \"Zoro\"\n",
    "print(character)"
   ]
  },
  {
   "cell_type": "code",
   "execution_count": 7,
   "id": "ec2fb0f5-c615-435c-af5e-6e3b6f413d9a",
   "metadata": {},
   "outputs": [
    {
     "name": "stdout",
     "output_type": "stream",
     "text": [
      "10\n"
     ]
    }
   ],
   "source": [
    "zoro = 10\n",
    "character_1 = zoro # character_1 = 10\n",
    "print(character_1)"
   ]
  },
  {
   "cell_type": "code",
   "execution_count": 16,
   "id": "f3106a5b-9e36-41bd-b827-3e906c680300",
   "metadata": {},
   "outputs": [
    {
     "name": "stdout",
     "output_type": "stream",
     "text": [
      "The area of rectangle with a width of 15 and a length of 10 is: 150\n"
     ]
    }
   ],
   "source": [
    "print(\"The area of rectangle with a width of\", width_rect, \"and a length of\", length_rect, \"is:\", area_rect)\n",
    "# The area of rectangle with a width of 15 and a length of 10 is: 150"
   ]
  },
  {
   "cell_type": "code",
   "execution_count": 9,
   "id": "d0e42699-a667-404d-84af-cd76ed0b5bbf",
   "metadata": {},
   "outputs": [
    {
     "data": {
      "text/plain": [
       "int"
      ]
     },
     "execution_count": 9,
     "metadata": {},
     "output_type": "execute_result"
    }
   ],
   "source": [
    "type(zoro)"
   ]
  },
  {
   "cell_type": "code",
   "execution_count": 10,
   "id": "d871feb4-f821-47a4-be06-cd969e31048d",
   "metadata": {},
   "outputs": [
    {
     "data": {
      "text/plain": [
       "str"
      ]
     },
     "execution_count": 10,
     "metadata": {},
     "output_type": "execute_result"
    }
   ],
   "source": [
    "zoro_string = str(zoro)\n",
    "type(zoro_string)"
   ]
  },
  {
   "cell_type": "code",
   "execution_count": null,
   "id": "b4c56b7b-092c-469f-bf67-ab4802ee4dd9",
   "metadata": {},
   "outputs": [],
   "source": []
  }
 ],
 "metadata": {
  "kernelspec": {
   "display_name": "Python 3 (ipykernel)",
   "language": "python",
   "name": "python3"
  },
  "language_info": {
   "codemirror_mode": {
    "name": "ipython",
    "version": 3
   },
   "file_extension": ".py",
   "mimetype": "text/x-python",
   "name": "python",
   "nbconvert_exporter": "python",
   "pygments_lexer": "ipython3",
   "version": "3.11.7"
  }
 },
 "nbformat": 4,
 "nbformat_minor": 5
}
