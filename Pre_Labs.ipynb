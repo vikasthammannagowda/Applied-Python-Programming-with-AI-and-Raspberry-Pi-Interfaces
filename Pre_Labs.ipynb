{
 "cells": [
  {
   "cell_type": "markdown",
   "id": "8105b95d-1ecb-4c59-891d-7182f0c4c1b0",
   "metadata": {},
   "source": [
    "# Pre Lab 1"
   ]
  },
  {
   "cell_type": "code",
   "execution_count": 1,
   "id": "517effe6-f2e6-44e5-a8c3-0b810348b596",
   "metadata": {},
   "outputs": [
    {
     "name": "stdout",
     "output_type": "stream",
     "text": [
      "Subtotal:         38.97\n",
      "Tax:              2.7279\n",
      "Shipping:         4.5\n",
      "Total cost:       46.1979\n",
      "Within budget?    True\n"
     ]
    }
   ],
   "source": [
    "# 1. Set up item costs and rates\n",
    "book_price    = 12.99      # price per book (in $)\n",
    "quantity      = 3          # how many books you want\n",
    "shipping_cost = 4.50       # flat shipping fee\n",
    "tax_rate      = 0.07       # 7% sales tax\n",
    "\n",
    "# 2. Compute costs using arithmetic and assignment\n",
    "subtotal = book_price * quantity       # multiplication\n",
    "tax      = subtotal * tax_rate         # multiplication\n",
    "total    = subtotal + shipping_cost    # addition\n",
    "total   += tax                         # augmented assignment\n",
    "\n",
    "# 3. Define your budget and compare\n",
    "budget         = 50                    # your maximum spend\n",
    "within_budget  = total <= budget       # relational comparison\n",
    "\n",
    "# 4. Show results\n",
    "print(\"Subtotal:        \", subtotal)\n",
    "print(\"Tax:             \", tax)\n",
    "print(\"Shipping:        \", shipping_cost)\n",
    "print(\"Total cost:      \", total)\n",
    "print(\"Within budget?   \", within_budget)\n"
   ]
  },
  {
   "cell_type": "code",
   "execution_count": null,
   "id": "9ab34f57-7ba7-4b50-bc4a-986ee2d5f84b",
   "metadata": {},
   "outputs": [],
   "source": []
  },
  {
   "cell_type": "code",
   "execution_count": null,
   "id": "a1c5db38-fcad-477c-b69c-cda71d059983",
   "metadata": {},
   "outputs": [],
   "source": []
  },
  {
   "cell_type": "code",
   "execution_count": null,
   "id": "054f7827-dfd9-4ac5-848d-d2b601b24674",
   "metadata": {},
   "outputs": [],
   "source": []
  },
  {
   "cell_type": "markdown",
   "id": "56b569f3-16e9-49c4-b11c-721746ce5e5f",
   "metadata": {},
   "source": [
    "# Pre Lab 2"
   ]
  },
  {
   "cell_type": "code",
   "execution_count": 3,
   "id": "d1405a10-9079-4709-b886-c81038ec394c",
   "metadata": {},
   "outputs": [
    {
     "name": "stdin",
     "output_type": "stream",
     "text": [
      "Enter the price per book ($):  1\n",
      "Enter the quantity of books:  1\n",
      "Enter the flat shipping cost ($):  1\n",
      "Enter the tax rate as a decimal:  .01\n"
     ]
    },
    {
     "name": "stdout",
     "output_type": "stream",
     "text": [
      "Subtotal: 1.0\n",
      "Discount rate used: 0.0\n",
      "Discount applied: 0.0\n",
      "Total cost: 2.01\n"
     ]
    }
   ],
   "source": [
    "# 1. Get user inputs\n",
    "book_price    = float(input(\"Enter the price per book ($): \"))\n",
    "quantity      = int(input(\"Enter the quantity of books: \"))\n",
    "shipping_cost = float(input(\"Enter the flat shipping cost ($): \"))\n",
    "tax_rate      = float(input(\"Enter the tax rate as a decimal: \"))\n",
    "\n",
    "# 2. Compute subtotal\n",
    "subtotal        = book_price * quantity\n",
    "\n",
    "# 3. Apply discount based on subtotal\n",
    "if subtotal >= 100:\n",
    "    discount_rate = 0.10   # 10% discount\n",
    "elif subtotal >= 50:\n",
    "    discount_rate = 0.05   # 5% discount\n",
    "else:\n",
    "    discount_rate = 0.0    # no discount\n",
    "discount        = subtotal * discount_rate\n",
    "\n",
    "# 4. Compute tax and total\n",
    "taxable_amount  = subtotal - discount\n",
    "tax             = taxable_amount * tax_rate\n",
    "total           = taxable_amount + tax + shipping_cost\n",
    "\n",
    "# 5. Show results\n",
    "print(\"Subtotal:\", subtotal)\n",
    "print(\"Discount rate used:\", discount_rate)\n",
    "print(\"Discount applied:\", discount)\n",
    "print(\"Total cost:\", total)"
   ]
  },
  {
   "cell_type": "code",
   "execution_count": null,
   "id": "76b5f72f-b1b4-4ad0-a592-ec51d8aebe05",
   "metadata": {},
   "outputs": [],
   "source": []
  },
  {
   "cell_type": "code",
   "execution_count": null,
   "id": "baf07c6c-4784-4dbf-9549-b947841b672d",
   "metadata": {},
   "outputs": [],
   "source": []
  },
  {
   "cell_type": "markdown",
   "id": "82fd3079-97bc-4176-9593-ae49052281df",
   "metadata": {},
   "source": [
    "# Pre Lab 3"
   ]
  },
  {
   "cell_type": "code",
   "execution_count": 2,
   "id": "6bb69e75-c511-4cd0-872e-513e97fa9383",
   "metadata": {},
   "outputs": [
    {
     "name": "stdout",
     "output_type": "stream",
     "text": [
      "Total revenue: $64.56\n",
      "Total distance: 21.7 miles\n",
      "Average speed: 16.9 mph\n"
     ]
    }
   ],
   "source": [
    "# Pricing parameters\n",
    "base_rate_per_mile   = 1.25    # $ per mile\n",
    "base_rate_per_minute = 0.25    # $ per minute\n",
    "peak_hours_morning   = range(7, 10)   # 7–9 AM\n",
    "peak_hours_evening   = range(17, 20)  # 5–7 PM\n",
    "peak_multiplier      = 1.5     # 50% surge\n",
    "service_fee          = 2.00    # flat fee per ride\n",
    "\n",
    "# Sample rides: (distance_mi, duration_min, start_hour)\n",
    "rides = [\n",
    "    (3.2, 12, 8),    # morning peak\n",
    "    (5.0, 20, 14),   # off-peak\n",
    "    (2.5, 15, 18),   # evening peak\n",
    "    (10.0, 25, 22),  # late night\n",
    "    (1.0, 5, 9)      # edge of peak\n",
    "]\n",
    "\n",
    "# 1. Calculate total revenue using a while loop\n",
    "index = 0\n",
    "total_revenue = 0.0\n",
    "while index < len(rides):\n",
    "    dist, dur, hour = rides[index]\n",
    "    base_fare = dist * base_rate_per_mile + dur * base_rate_per_minute\n",
    "    multiplier = peak_multiplier if (hour in peak_hours_morning or hour in peak_hours_evening) else 1.0\n",
    "    fare = base_fare * multiplier + service_fee\n",
    "    total_revenue += fare\n",
    "    index += 1\n",
    "print(f\"Total revenue: ${total_revenue:.2f}\")\n",
    "\n",
    "# 2. Compute total distance and average speed using a for loop\n",
    "total_distance = 0.0\n",
    "total_time = 0.0\n",
    "for dist, dur, hour in rides:\n",
    "    total_distance += dist\n",
    "    total_time += dur\n",
    "average_speed = total_distance / (total_time / 60)  # miles per hour\n",
    "print(f\"Total distance: {total_distance:.1f} miles\")\n",
    "print(f\"Average speed: {average_speed:.1f} mph\")"
   ]
  },
  {
   "cell_type": "code",
   "execution_count": null,
   "id": "d31ca8e1-2cd6-4e18-8310-feb0f0e19c65",
   "metadata": {},
   "outputs": [],
   "source": []
  },
  {
   "cell_type": "code",
   "execution_count": null,
   "id": "038ac429-9840-4368-ae1b-49b6597b8943",
   "metadata": {},
   "outputs": [],
   "source": []
  },
  {
   "cell_type": "markdown",
   "id": "db299fbb-676a-4d1c-9b0f-607638172e86",
   "metadata": {},
   "source": [
    "# Pre Lab 4"
   ]
  },
  {
   "cell_type": "code",
   "execution_count": 4,
   "id": "fa39b3e6-5f05-466f-a24b-9cd4f36edf7b",
   "metadata": {},
   "outputs": [
    {
     "name": "stdout",
     "output_type": "stream",
     "text": [
      "Order 1: qty=4, age=adult, day=Friday ->               subtotal=$48.00, age_disc=$0.00,               weekday_disc=$0.00, fee=$1.50, total=$49.50\n",
      "Order 2: qty=2, age=child, day=Wednesday ->               subtotal=$24.00, age_disc=$12.00,               weekday_disc=$4.00, fee=$1.50, total=$9.50\n",
      "Order 3: qty=3, age=senior, day=Monday ->               subtotal=$36.00, age_disc=$10.80,               weekday_disc=$6.00, fee=$1.50, total=$20.70\n",
      "Order 4: qty=1, age=adult, day=Tuesday ->               subtotal=$12.00, age_disc=$0.00,               weekday_disc=$2.00, fee=$1.50, total=$11.50\n",
      "Order 5: qty=5, age=child, day=Saturday ->               subtotal=$60.00, age_disc=$30.00,               weekday_disc=$0.00, fee=$1.50, total=$31.50\n"
     ]
    }
   ],
   "source": [
    "# Pricing & fees (constants)\n",
    "base_ticket_price = 12.00    # $ per ticket\n",
    "service_fee       = 1.50     # flat service fee per order\n",
    "\n",
    "# 1. calculate_subtotal: returns subtotal for given qty of tickets\n",
    "def calculate_subtotal(qty):\n",
    "    return base_ticket_price * qty\n",
    "\n",
    "# 2. determine_age_discount: returns discount amount based on age\n",
    "def determine_age_discount(subtotal, age_group):\n",
    "    if age_group == 'child':   # under 12\n",
    "        return subtotal * 0.50  # 50% off\n",
    "    elif age_group == 'senior': # 65 and over\n",
    "        return subtotal * 0.30  # 30% off\n",
    "    else:\n",
    "        return 0.00            # no discount\n",
    "\n",
    "# 3. apply_weekday_discount: $2 off per ticket on weekdays (Mon–Thu)\n",
    "def apply_weekday_discount(qty, day_of_week):\n",
    "    weekdays = ['Monday', 'Tuesday', 'Wednesday', 'Thursday']\n",
    "    return 2.00 * qty if day_of_week in weekdays else 0.00\n",
    "\n",
    "# 4. calculate_total: returns (total, subtotal, age_disc, weekday_disc, service_fee)\n",
    "def calculate_total(qty, age_group, day_of_week):\n",
    "    subtotal      = calculate_subtotal(qty)\n",
    "    age_discount  = determine_age_discount(subtotal, age_group)\n",
    "    weekday_disc  = apply_weekday_discount(qty, day_of_week)\n",
    "    net           = subtotal - age_discount - weekday_disc\n",
    "    total         = net + service_fee\n",
    "    return total, subtotal, age_discount, weekday_disc, service_fee\n",
    "\n",
    "# 5. process_orders: iterates orders and prints summary\n",
    "def process_orders(orders):\n",
    "    for i, order in enumerate(orders, start=1):\n",
    "        qty, age_group, day = order\n",
    "        total, subtotal, age_disc, wd_disc, fee = calculate_total(qty, age_group, day)\n",
    "        print(f\"Order {i}: qty={qty}, age={age_group}, day={day} -> \\\n",
    "              subtotal=${subtotal:.2f}, age_disc=${age_disc:.2f}, \\\n",
    "              weekday_disc=${wd_disc:.2f}, fee=${fee:.2f}, total=${total:.2f}\")\n",
    "\n",
    "# Main program\n",
    "if __name__ == \"__main__\":\n",
    "    # orders: (quantity, age_group, day_of_week)\n",
    "    orders = [\n",
    "        (4, 'adult', 'Friday'),\n",
    "        (2, 'child', 'Wednesday'),\n",
    "        (3, 'senior', 'Monday'),\n",
    "        (1, 'adult', 'Tuesday'),\n",
    "        (5, 'child', 'Saturday')\n",
    "    ]\n",
    "    process_orders(orders)"
   ]
  },
  {
   "cell_type": "code",
   "execution_count": null,
   "id": "7ad4dbad-fa49-459a-baea-b81b4d846303",
   "metadata": {},
   "outputs": [],
   "source": []
  }
 ],
 "metadata": {
  "kernelspec": {
   "display_name": "Python 3 (ipykernel)",
   "language": "python",
   "name": "python3"
  },
  "language_info": {
   "codemirror_mode": {
    "name": "ipython",
    "version": 3
   },
   "file_extension": ".py",
   "mimetype": "text/x-python",
   "name": "python",
   "nbconvert_exporter": "python",
   "pygments_lexer": "ipython3",
   "version": "3.11.7"
  }
 },
 "nbformat": 4,
 "nbformat_minor": 5
}
